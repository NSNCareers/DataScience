{
    "cells": [
        {
            "cell_type": "code",
            "execution_count": null,
            "source": [
                "import pandas as pd\r\n",
                "import numpy as np\r\n",
                "\r\n",
                "\r\n",
                "my_File = pd.read_csv(\"2019 - Copy.csv\")\r\n",
                "dt = pd.DataFrame(my_File)"
            ],
            "outputs": [],
            "metadata": {}
        },
        {
            "cell_type": "code",
            "execution_count": null,
            "source": [
                "# Using the replace function to replace string content\r\n",
                "\r\n",
                "results = [item for item in dt['Country or region'].str.replace('is very cold#','')]\r\n",
                "\r\n",
                "print(results)"
            ],
            "outputs": [],
            "metadata": {}
        },
        {
            "cell_type": "code",
            "execution_count": null,
            "source": [
                "# Using the split function\r\n",
                "\r\n",
                "results = [item for item in dt['Country or region'].str.split()[0]]\r\n",
                "print(results[0])"
            ],
            "outputs": [],
            "metadata": {}
        },
        {
            "cell_type": "code",
            "execution_count": null,
            "source": [
                "# Get Index\r\n",
                "\r\n",
                "results = dt.index\r\n",
                "print(results)"
            ],
            "outputs": [],
            "metadata": {}
        },
        {
            "cell_type": "code",
            "execution_count": null,
            "source": [
                "# Get Columns\r\n",
                "\r\n",
                "results = dt.columns\r\n",
                "print(results)"
            ],
            "outputs": [],
            "metadata": {}
        },
        {
            "cell_type": "code",
            "execution_count": null,
            "source": [
                "# Get Data Types\r\n",
                "\r\n",
                "results = dt.dtypes\r\n",
                "print(results)"
            ],
            "outputs": [],
            "metadata": {}
        },
        {
            "cell_type": "code",
            "execution_count": null,
            "source": [
                "# Get Info\r\n",
                "\r\n",
                "results = dt.info\r\n",
                "print(results)"
            ],
            "outputs": [],
            "metadata": {}
        },
        {
            "cell_type": "code",
            "execution_count": null,
            "source": [
                "# Get row values\r\n",
                "\r\n",
                "results = dt['Score'].values\r\n",
                "print(results)"
            ],
            "outputs": [],
            "metadata": {}
        },
        {
            "cell_type": "code",
            "execution_count": null,
            "source": [
                "# Get first nth rows\r\n",
                "\r\n",
                "results = dt.head(5)\r\n",
                "print(results)"
            ],
            "outputs": [],
            "metadata": {}
        },
        {
            "cell_type": "code",
            "execution_count": null,
            "source": [
                "# Get last nth rows\r\n",
                "\r\n",
                "results = dt.tail(5)\r\n",
                "print(results)"
            ],
            "outputs": [],
            "metadata": {}
        },
        {
            "cell_type": "code",
            "execution_count": null,
            "source": [
                "# Get index at specific row/column\r\n",
                "\r\n",
                "results = dt.at[3,'Score']\r\n",
                "print(results)"
            ],
            "outputs": [],
            "metadata": {}
        },
        {
            "cell_type": "code",
            "execution_count": null,
            "source": [
                "# Access a group of rows and columns by label(s) or a boolean array\r\n",
                "# START point is INCLUDED, END point is EXCLUDED\r\n",
                "\r\n",
                "results = dt.iloc[:, 0:3]\r\n",
                "print(results)"
            ],
            "outputs": [],
            "metadata": {}
        },
        {
            "cell_type": "code",
            "execution_count": null,
            "source": [
                "# Iterate over (column name, Series) pairs.\r\n",
                "\r\n",
                "for label, content in dt.items():\r\n",
                "    print(f'label: {label}')\r\n",
                "    print(f'content: {content}', sep='\\n')"
            ],
            "outputs": [],
            "metadata": {}
        },
        {
            "cell_type": "code",
            "execution_count": null,
            "source": [
                "# Insert column into DataFrame at specified location\r\n",
                "\r\n",
                "# results = dt.insert(0,'One',[1,2,3,4,5,6,7,8,9,0])\r\n",
                "# print(results)"
            ],
            "outputs": [],
            "metadata": {}
        },
        {
            "cell_type": "code",
            "execution_count": null,
            "source": [
                "# Return item and drop from frame. Raise KeyError if not found.\r\n",
                "\r\n",
                "results = dt.pop('Score')\r\n",
                "print(results)"
            ],
            "outputs": [],
            "metadata": {}
        },
        {
            "cell_type": "code",
            "execution_count": null,
            "source": [
                "# Whether each element in the DataFrame is contained in values.\r\n",
                "\r\n",
                "results = dt.isin(['New Zealand'])\r\n",
                "print(results)"
            ],
            "outputs": [],
            "metadata": {}
        },
        {
            "cell_type": "code",
            "execution_count": null,
            "source": [
                "# Replace values where the condition is False.\r\n",
                "filtering = dt['GDP per capita'] < 1\r\n",
                "other = 5\r\n",
                "inplace = 'true'\r\n",
                "results = dt.where(filtering,other=other)\r\n",
                "print(results)"
            ],
            "outputs": [],
            "metadata": {}
        },
        {
            "cell_type": "code",
            "execution_count": null,
            "source": [
                "# Query the columns of a DataFrame with a boolean expression.\r\n",
                "filtering = 'Country or region == \"Sweden\"'\r\n",
                "results = dt.query('Score == 4')\r\n",
                "print(results)"
            ],
            "outputs": [],
            "metadata": {}
        },
        {
            "cell_type": "code",
            "execution_count": 20,
            "source": [
                "# Apply a function along an axis of the DataFrame and update the results.\r\n",
                "# results = dt.apply(lambda x: x.replace('Finland is very cold#','Cameroon'))\r\n",
                "def edit(x):\r\n",
                "    if '#' in x:\r\n",
                "        return x.replace('#','')\r\n",
                "    else:\r\n",
                "        return x\r\n",
                "results = dt['Country or region'].apply(edit)\r\n",
                "dt.update(results)\r\n",
                "print(dt)"
            ],
            "outputs": [
                {
                    "output_type": "stream",
                    "name": "stdout",
                    "text": [
                        "     Overall rank         Country or region  GDP per capita  Social support  \\\n",
                        "0               1      Finland is very cold           1.340           1.587   \n",
                        "1               2                   Denmark           1.383           1.573   \n",
                        "2               3                    Norway           1.488           1.582   \n",
                        "3               4                   Iceland           1.380           1.624   \n",
                        "4               5               Netherlands           1.396           1.522   \n",
                        "..            ...                       ...             ...             ...   \n",
                        "151           152                    Rwanda           0.359           0.711   \n",
                        "152           153                  Tanzania           0.476           0.885   \n",
                        "153           154               Afghanistan           0.350           0.517   \n",
                        "154           155  Central African Republic           0.026           0.000   \n",
                        "155           156               South Sudan           0.306           0.575   \n",
                        "\n",
                        "     Healthy life expectancy  Freedom to make life choices  Generosity  \\\n",
                        "0                      0.986                         0.596       0.153   \n",
                        "1                      0.996                         0.592       0.252   \n",
                        "2                      1.028                         0.603       0.271   \n",
                        "3                      1.026                         0.591       0.354   \n",
                        "4                      0.999                         0.557       0.322   \n",
                        "..                       ...                           ...         ...   \n",
                        "151                    0.614                         0.555       0.217   \n",
                        "152                    0.499                         0.417       0.276   \n",
                        "153                    0.361                         0.000       0.158   \n",
                        "154                    0.105                         0.225       0.235   \n",
                        "155                    0.295                         0.010       0.202   \n",
                        "\n",
                        "     Perceptions of corruption                  Languages Christians  \\\n",
                        "0                        0.393  English, French,  Swedish        Yes   \n",
                        "1                        0.410            Germany, French         No   \n",
                        "2                        0.341     Italian, Danish, Shona        Yes   \n",
                        "3                        0.118    Spanish, Latin, English         No   \n",
                        "4                        0.298            English, French         No   \n",
                        "..                         ...                        ...        ...   \n",
                        "151                      0.411                        Nan        Yes   \n",
                        "152                      0.147                        Nan        Yes   \n",
                        "153                      0.025                        Nan        Yes   \n",
                        "154                      0.035                        Nan        Yes   \n",
                        "155                      0.091                        Nan        Yes   \n",
                        "\n",
                        "     Population         Processed_doc  \n",
                        "0          20.0  [my name is Augusta]  \n",
                        "1          45.0    [my name is Susan]  \n",
                        "2          10.0     [my name is Mira]  \n",
                        "3           NaN                   NaN  \n",
                        "4           NaN                   NaN  \n",
                        "..          ...                   ...  \n",
                        "151         NaN                   NaN  \n",
                        "152         NaN                   NaN  \n",
                        "153         NaN                   NaN  \n",
                        "154       233.0                   NaN  \n",
                        "155       875.0                   NaN  \n",
                        "\n",
                        "[156 rows x 12 columns]\n"
                    ]
                }
            ],
            "metadata": {}
        }
    ],
    "metadata": {
        "orig_nbformat": 4,
        "language_info": {
            "name": "python",
            "version": "3.9.6",
            "mimetype": "text/x-python",
            "codemirror_mode": {
                "name": "ipython",
                "version": 3
            },
            "pygments_lexer": "ipython3",
            "nbconvert_exporter": "python",
            "file_extension": ".py"
        },
        "kernelspec": {
            "name": "python3",
            "display_name": "Python 3.9.6 64-bit"
        },
        "interpreter": {
            "hash": "b4474bd39aa979d9034cf80f10e2f11f4a0fc3802d205559d129ca421827463e"
        }
    },
    "nbformat": 4,
    "nbformat_minor": 2
}