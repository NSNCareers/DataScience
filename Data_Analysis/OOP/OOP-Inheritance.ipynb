{
 "cells": [
  {
   "cell_type": "code",
   "execution_count": null,
   "source": [
    "\r\n",
    "class car:\r\n",
    "\r\n",
    "    def __init__(self,year,speed):\r\n",
    "        self.year = year\r\n",
    "        self.speed = speed\r\n",
    "\r\n",
    "    def getSpeed(self):\r\n",
    "        print(f'Max speed is: {self.speed}')\r\n",
    "    \r\n",
    "    def setSpeed(self,speed):\r\n",
    "        self.speed = speed"
   ],
   "outputs": [],
   "metadata": {}
  },
  {
   "cell_type": "code",
   "execution_count": null,
   "source": [
    "# Create a new class and inherit from car class\r\n",
    "\r\n",
    "class sedan(car): # Child class\r\n",
    "\r\n",
    "    def accelerate(self):\r\n",
    "        print('120')\r\n",
    "\r\n",
    "    def openTrunk(self):\r\n",
    "        print('Trunk has been opened')\r\n",
    "\r\n",
    "class SUV(car): # Child class\r\n",
    "\r\n",
    "    def accelerate(self):\r\n",
    "        print('114')"
   ],
   "outputs": [],
   "metadata": {}
  },
  {
   "cell_type": "code",
   "execution_count": null,
   "source": [
    "# We are getting all this as we inherited from class car\r\n",
    "BMW = car(2021,230)\r\n",
    "Honda = sedan(2018,158)\r\n",
    "\r\n",
    "BMW.getSpeed()\r\n",
    "Honda.getSpeed()"
   ],
   "outputs": [],
   "metadata": {}
  },
  {
   "cell_type": "code",
   "execution_count": 4,
   "source": [
    "# This will throw an error\r\n",
    "Honda.openTrunk()\r\n",
    "BMW.openTrunk()"
   ],
   "outputs": [
    {
     "output_type": "error",
     "ename": "AttributeError",
     "evalue": "'car' object has no attribute 'openTrunk'",
     "traceback": [
      "\u001b[1;31m---------------------------------------------------------------------------\u001b[0m",
      "\u001b[1;31mAttributeError\u001b[0m                            Traceback (most recent call last)",
      "\u001b[1;32m~\\AppData\\Local\\Temp/ipykernel_25684/2247295118.py\u001b[0m in \u001b[0;36m<module>\u001b[1;34m\u001b[0m\n\u001b[0;32m      1\u001b[0m \u001b[1;31m# This will throw an error\u001b[0m\u001b[1;33m\u001b[0m\u001b[1;33m\u001b[0m\u001b[1;33m\u001b[0m\u001b[0m\n\u001b[1;32m----> 2\u001b[1;33m \u001b[0mBMW\u001b[0m\u001b[1;33m.\u001b[0m\u001b[0mopenTrunk\u001b[0m\u001b[1;33m(\u001b[0m\u001b[1;33m)\u001b[0m\u001b[1;33m\u001b[0m\u001b[1;33m\u001b[0m\u001b[0m\n\u001b[0m",
      "\u001b[1;31mAttributeError\u001b[0m: 'car' object has no attribute 'openTrunk'"
     ]
    }
   ],
   "metadata": {}
  }
 ],
 "metadata": {
  "orig_nbformat": 4,
  "language_info": {
   "name": "python",
   "version": "3.9.6",
   "mimetype": "text/x-python",
   "codemirror_mode": {
    "name": "ipython",
    "version": 3
   },
   "pygments_lexer": "ipython3",
   "nbconvert_exporter": "python",
   "file_extension": ".py"
  },
  "kernelspec": {
   "name": "python3",
   "display_name": "Python 3.9.6 64-bit"
  },
  "interpreter": {
   "hash": "b4474bd39aa979d9034cf80f10e2f11f4a0fc3802d205559d129ca421827463e"
  }
 },
 "nbformat": 4,
 "nbformat_minor": 2
}