{
    "cells": [
        {
            "cell_type": "code",
            "execution_count": 1,
            "source": [
                "import tweepy\r\n",
                "import webbrowser\r\n",
                "import timimport pandas as pde\r\n",
                "\r\n",
                "\r\n",
                "consumer_key = '5iM7WsOnBxmuLwg7N4yFgRGgv'\r\n",
                "consumer_secret ='AprvWHmF9hXWdbEYPMUE3vq4dnJHmRrx7GCJZbi3g4IWPrTFZ3'"
            ],
            "outputs": [],
            "metadata": {}
        },
        {
            "cell_type": "code",
            "execution_count": 2,
            "source": [
                "callback_url= 'oob'\r\n",
                "\r\n",
                "auth= tweepy.OAuthHandler(consumer_key,consumer_secret,callback_url) # Authenticate our User\r\n",
                "redirect_url = auth.get_authorization_url() # Get URL to direct user\r\n",
                "print(redirect_url)"
            ],
            "outputs": [
                {
                    "output_type": "stream",
                    "name": "stdout",
                    "text": [
                        "https://api.twitter.com/oauth/authorize?oauth_token=xwqmLAAAAAABN8cEAAABewNxiEk\n"
                    ]
                }
            ],
            "metadata": {}
        },
        {
            "cell_type": "code",
            "execution_count": 3,
            "source": [
                "webbrowser.open(redirect_url)\r\n",
                "\r\n",
                "user_pint_input = input (\"What's the pin value? \"\n",
                "user_pint_input\n",
                "auth.get_access_token(user_pint_input)\n",
                "api= tweepy.API(auth)\n",
                "me = api.me()\n",
                "print(me.screen_name))\r\n"
            ],
            "outputs": [
                {
                    "output_type": "stream",
                    "name": "stdout",
                    "text": [
                        "nsncareers\n"
                    ]
                }
            ],
            "metadata": {}
        },
        {
            "cell_type": "code",
            "execution_count": null,
            "metadata": {},
            "outputs": [],
            "source": [
                "\n",
                "user = api.get_user(\"code\")\n",
                "user_timeline = user.timeline()\n",
                "user_timeline_status_obj= user_timeline[0]\n",
                "status_obj_id = user_timeline_status_obj.id\n",
                "status_obj_screen_name = user_timeline_status_obj.user.screen_name\n",
                "status_obj_url = f\"https://twitter.com/{status_obj_screen_name}/status/{status_obj_id}\"\n",
                "print(status_obj_url)"
            ]
        },
        {
            "cell_type": "code",
            "execution_count": null,
            "metadata": {},
            "outputs": [],
            "source": [
                "\n",
                "status_obj = api.get_status(\"1247966976951058433\")\n",
                "status_obj.text"
            ]
        },
        {
            "cell_type": "code",
            "execution_count": null,
            "metadata": {},
            "outputs": [],
            "source": [
                ":\n",
                "# api.retweet(status_obj_id)"
            ]
        },
        {
            "cell_type": "code",
            "execution_count": null,
            "metadata": {},
            "outputs": [],
            "source": [
                "# api.create_favorite(status_obj_id)\n",
                "# api.destroy_favorite(status_obj_id)"
            ]
        },
        {
            "cell_type": "code",
            "execution_count": null,
            "metadata": {},
            "outputs": [],
            "source": [
                "og_tweet = api.get_status(\"1257339085414371333\")\n",
                "# print(og_tweet.user.screen_name, og_tweet.id)\n",
                "my_reply = api.update_status(f\"@{og_tweet.user.screen_name} Wow this cool!\", og_tweet.id)"
            ]
        },
        {
            "cell_type": "code",
            "execution_count": null,
            "metadata": {},
            "outputs": [],
            "source": [
                "\n",
                "print(my_reply.id, my_reply.user.screen_name)"
            ]
        }
    ],
    "metadata": {
        "orig_nbformat": 4,
        "language_info": {
            "name": "python",
            "version": "3.9.6",
            "mimetype": "text/x-python",
            "codemirror_mode": {
                "name": "ipython",
                "version": 3
            },
            "pygments_lexer": "ipython3",
            "nbconvert_exporter": "python",
            "file_extension": ".py"
        },
        "kernelspec": {
            "name": "python3",
            "display_name": "Python 3.9.6 64-bit"
        },
        "interpreter": {
            "hash": "b4474bd39aa979d9034cf80f10e2f11f4a0fc3802d205559d129ca421827463e"
        }
    },
    "nbformat": 4,
    "nbformat_minor": 2
}