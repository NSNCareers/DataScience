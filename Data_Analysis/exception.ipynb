{
    "cells": [
        {
            "cell_type": "code",
            "execution_count": null,
            "source": [
                "# lets try to open this file wrongly by giving it a wrong name\r\n",
                "# What we get is an exception\r\n",
                "\r\n",
                "f = open('datas/textFiles.txt')"
            ],
            "outputs": [],
            "metadata": {}
        },
        {
            "cell_type": "code",
            "execution_count": null,
            "source": [
                "# We handle exceptions using a try-except block\r\n",
                "# This code will throw a general exception which is not good\r\n",
                "\r\n",
                "try:\r\n",
                "    f = open('datas/textFiles.txt')\r\n",
                "    # It tries to open then file but an error occors\r\n",
                "except Exception:\r\n",
                "    # The error now moves into this code block\r\n",
                "    # You can now specify what error to be displayed\r\n",
                "    print(\"Sorry this file does not exist\")"
            ],
            "outputs": [],
            "metadata": {}
        },
        {
            "cell_type": "code",
            "execution_count": null,
            "source": [
                "try:\r\n",
                "    # Put in the corect file name\r\n",
                "    f = open('data/textFile.txt')\r\n",
                "    var = bad # Add a bad code\r\n",
                "except Exception:\r\n",
                "    # We still get file not found \r\n",
                "    print(\"Sorry this file does not exist\")"
            ],
            "outputs": [],
            "metadata": {}
        },
        {
            "cell_type": "code",
            "execution_count": null,
            "source": [
                "try:\r\n",
                "    f = open('data/textFile.txt')\r\n",
                "    var = bad # Add a bad code\r\n",
                "except FileNotFoundError: # This block is not executed because its not a file not found exception\r\n",
                "    print(\"Sorry this file does not exist\")"
            ],
            "outputs": [],
            "metadata": {}
        },
        {
            "cell_type": "code",
            "execution_count": null,
            "source": [
                "# Handle multiple exceptions\r\n",
                "try:\r\n",
                "    f = open('data/textFile.txt')\r\n",
                "    var = bad # Add a bad code\r\n",
                "except FileNotFoundError as e: \r\n",
                "    print(e)\r\n",
                "except Exception as e:\r\n",
                "    print(e) # print correct exception"
            ],
            "outputs": [],
            "metadata": {}
        },
        {
            "cell_type": "code",
            "execution_count": null,
            "source": [
                "# If no code throws an error, we can move onto to the else block\r\n",
                "try:\r\n",
                "    f = open('data/textFile.txt')\r\n",
                "except FileNotFoundError as e: \r\n",
                "    print(e)\r\n",
                "except Exception as e:\r\n",
                "    print(e)\r\n",
                "else:\r\n",
                "    print(f.read())\r\n",
                "    f.close()"
            ],
            "outputs": [],
            "metadata": {}
        },
        {
            "cell_type": "code",
            "execution_count": null,
            "source": [
                "# Finally block will run no matter what\r\n",
                "try:\r\n",
                "    f = open('data/textFile.txt')\r\n",
                "    var = bad # Add a bad code\r\n",
                "except FileNotFoundError as e: \r\n",
                "    print(e)\r\n",
                "except Exception as e:\r\n",
                "    print(e)\r\n",
                "else:\r\n",
                "    print(f.read())\r\n",
                "finally:\r\n",
                "    print(\"Closing file to avoid memory leaks\")\r\n",
                "    f.close()"
            ],
            "outputs": [],
            "metadata": {}
        },
        {
            "cell_type": "code",
            "execution_count": null,
            "source": [
                "# We can raise exceptions\r\n",
                "try:\r\n",
                "    f = open('data/curruptFile.txt')\r\n",
                "    if f.name == 'data/curruptFile.txt':\r\n",
                "        raise Exception\r\n",
                "except FileNotFoundError as e: \r\n",
                "    print(e)\r\n",
                "except Exception as e:\r\n",
                "    print('error!')\r\n",
                "else:\r\n",
                "    print(f.read())\r\n",
                "finally:\r\n",
                "    print(\"Closing file to avoid memory leaks\")\r\n",
                "    f.close()"
            ],
            "outputs": [],
            "metadata": {}
        }
    ],
    "metadata": {
        "orig_nbformat": 4,
        "language_info": {
            "name": "python",
            "version": "3.9.6",
            "mimetype": "text/x-python",
            "codemirror_mode": {
                "name": "ipython",
                "version": 3
            },
            "pygments_lexer": "ipython3",
            "nbconvert_exporter": "python",
            "file_extension": ".py"
        },
        "kernelspec": {
            "name": "python3",
            "display_name": "Python 3.9.6 64-bit"
        },
        "interpreter": {
            "hash": "b4474bd39aa979d9034cf80f10e2f11f4a0fc3802d205559d129ca421827463e"
        }
    },
    "nbformat": 4,
    "nbformat_minor": 2
}