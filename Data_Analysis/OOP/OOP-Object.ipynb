{
 "cells": [
  {
   "cell_type": "code",
   "execution_count": null,
   "source": [
    "# Lets create a class called create\r\n",
    "\r\n",
    "class car:\r\n",
    "\r\n",
    "    # function\r\n",
    "    # Self refers to any instance created of the class car\r\n",
    "    def getSpeed(self):\r\n",
    "        print('155 mph')"
   ],
   "outputs": [],
   "metadata": {}
  },
  {
   "cell_type": "code",
   "execution_count": null,
   "source": [
    "# Lets create an instance of the class car\r\n",
    "# Remember car is like a template\r\n",
    "# The below instances are pointing to the object car\r\n",
    "# () is called a constructor and helps create a new instance of the object car\r\n",
    "# Every thing under car will be part of BMW and FORD\r\n",
    "\r\n",
    "BMW = car()\r\n",
    "FORD = car()"
   ],
   "outputs": [],
   "metadata": {}
  },
  {
   "cell_type": "code",
   "execution_count": null,
   "source": [
    "# Lets get speed\r\n",
    "# We now see that self accepts the object instance\r\n",
    "car.getSpeed(BMW)\r\n",
    "car.getSpeed(FORD)\r\n",
    "BMW.getSpeed()\r\n",
    "FORD.getSpeed()"
   ],
   "outputs": [],
   "metadata": {}
  }
 ],
 "metadata": {
  "orig_nbformat": 4,
  "language_info": {
   "name": "python",
   "version": "3.9.6",
   "mimetype": "text/x-python",
   "codemirror_mode": {
    "name": "ipython",
    "version": 3
   },
   "pygments_lexer": "ipython3",
   "nbconvert_exporter": "python",
   "file_extension": ".py"
  },
  "kernelspec": {
   "name": "python3",
   "display_name": "Python 3.9.6 64-bit"
  },
  "interpreter": {
   "hash": "b4474bd39aa979d9034cf80f10e2f11f4a0fc3802d205559d129ca421827463e"
  }
 },
 "nbformat": 4,
 "nbformat_minor": 2
}