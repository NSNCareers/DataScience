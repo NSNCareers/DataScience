{
    "cells": [
        {
            "cell_type": "code",
            "execution_count": null,
            "source": [
                "import tweepy\r\n",
                "import webbrowser\r\n",
                "from tweepy import Stream\r\n",
                "from tweepy.streaming import StreamListener\r\n",
                "from tweepy import Cursor\r\n",
                "from tweepy import API\r\n",
                "import pandas as pd\r\n",
                "import numpy as np\r\n",
                "import re\r\n",
                "from textblob import Word, TextBlob\r\n",
                "import matplotlib.pyplot as plt\r\n",
                "import json\r\n",
                "# from wordcloud import WordCloud"
            ],
            "outputs": [],
            "metadata": {}
        },
        {
            "cell_type": "code",
            "execution_count": null,
            "source": [
                "# We shall be analysing tweets with respect to presidential debate\r\n",
                "\r\n",
                "with open('data/manager.json') as f:\r\n",
                "    data = json.load(f)\r\n",
                "    consumer_key = data['API_key']\r\n",
                "    consumer_secret = data['API_secret_Key']\r\n",
                "    Bearer_Token = data['Bearer_Token']\r\n",
                "\r\n",
                "\r\n",
                "callback_url= 'oob'\r\n",
                "auth= tweepy.OAuthHandler(consumer_key,consumer_secret,callback_url) # Authenticate our User\r\n",
                "redirect_url = auth.get_authorization_url() # Get URL to direct user\r\n",
                "# print(redirect_url)\r\n",
                "webbrowser.open(redirect_url)\r\n",
                "user_pint_input = input (\"What's the pin value? \")\r\n",
                "user_pint_input\r\n",
                "auth.get_access_token(user_pint_input)\r\n",
                "api= tweepy.API(auth, wait_on_rate_limit=True)\r\n",
                "me = api.me()"
            ],
            "outputs": [],
            "metadata": {}
        },
        {
            "cell_type": "code",
            "execution_count": null,
            "source": [
                "# Setting up tweeter handler\r\n",
                "\r\n",
                "hashtag = '#covid-19'\r\n",
                "query = tweepy.Cursor(api.search, q=hashtag,lang='en').items(1000)  # The search method will help us search\r\n",
                "# print(dir(query)) \r\n",
                "tweets = [ {'Tweets':tweet.text, 'Timestamp':tweet.created_at} for tweet in query]\r\n",
                "# print(tweets)"
            ],
            "outputs": [],
            "metadata": {}
        },
        {
            "cell_type": "code",
            "execution_count": null,
            "source": [
                "print(dir(query)) "
            ],
            "outputs": [],
            "metadata": {}
        },
        {
            "cell_type": "code",
            "execution_count": 8,
            "source": [
                "# Import tweets into a data frame\r\n",
                "# convert dictionary to list\r\n",
                "tweets = list(tweets) \r\n",
                "df = pd.DataFrame(tweets, columns=['Tweets','Timestamp'])\r\n",
                "# print(df)"
            ],
            "outputs": [],
            "metadata": {}
        },
        {
            "cell_type": "code",
            "execution_count": 9,
            "source": [
                "\r\n",
                "# Cleaning tweets\r\n",
                "def clean_text(raw_text):\r\n",
                "    raw_text = re.sub(r'@[A-Za-z0-9]+','',raw_text) # Remove all @mentions and numbers\r\n",
                "    raw_text = re.sub(r'#','',raw_text) # Remove the # symbol\r\n",
                "    raw_text = re.sub(r'RT[\\s]+','',raw_text) # Removing the RT\r\n",
                "    raw_text = re.sub(r'https?:\\/\\/\\S+','',raw_text) # Remove hyper links\r\n",
                "    raw_text = re.sub(r':','',raw_text)\r\n",
                "    raw_text = re.sub(r'_','',raw_text)\r\n",
                "    raw_text = re.sub(r'\\n\\n','',raw_text)\r\n",
                "    raw_text = re.sub(r'--&','',raw_text)\r\n",
                "    raw_text = re.sub(r'\\n','',raw_text)\r\n",
                "    return raw_text\r\n",
                "\r\n",
                "df['Tweets'] = df['Tweets'].apply(clean_text)\r\n",
                "\r\n",
                "# print(df)\r\n",
                "#print(df.shape)"
            ],
            "outputs": [],
            "metadata": {}
        },
        {
            "cell_type": "code",
            "execution_count": 10,
            "source": [
                "# Remove emorjis\r\n",
                "def removeEmojify(text):\r\n",
                "    regrex_pattern = re.compile(pattern = \"[\"\r\n",
                "        u\"\\U0001F600-\\U0001F64F\"  # emoticons\r\n",
                "        u\"\\U0001F300-\\U0001F5FF\"  # symbols & pictographs\r\n",
                "        u\"\\U0001F680-\\U0001F6FF\"  # transport & map symbols\r\n",
                "        u\"\\U0001F1E0-\\U0001F1FF\"  # flags (iOS)\r\n",
                "                           \"]+\", flags = re.UNICODE)\r\n",
                "    return regrex_pattern.sub(r'',text)\r\n",
                "\r\n",
                "df['Tweets'] = df['Tweets'].apply(removeEmojify)\r\n",
                "\r\n",
                "# print(df)"
            ],
            "outputs": [],
            "metadata": {}
        },
        {
            "cell_type": "code",
            "execution_count": null,
            "source": [
                "# Plot the word cloud\r\n",
                "# allword = ' '.join([twts for twts in df['Tweets']])\r\n",
                "# wordCloud = WordCloud(width = 500, height = 300, random_state = 21, max_font_size = 119).generate(allword)\r\n",
                "# plt.imshow(wordCloud, interpolation='bilinear')\r\n",
                "# plt.axis('off')\r\n",
                "# plt.show()"
            ],
            "outputs": [],
            "metadata": {}
        },
        {
            "cell_type": "code",
            "execution_count": null,
            "source": [
                "# Subjectivity and the polarity\r\n",
                "\r\n",
                "# How much a piece of text is based on emotion or how objective or subjective it is ranging from 0 to 1\r\n",
                "def getSubjectivity(text):\r\n",
                "    return TextBlob(text).sentiment.subjectivity\r\n",
                "\r\n",
                "# How positive or negative something is ranging from -1 to 1\r\n",
                "def getPolarity(text): \r\n",
                "    return TextBlob(text).sentiment.polarity\r\n",
                "\r\n",
                "df['Subjectivity'] = df['Tweets'].apply(getSubjectivity)\r\n",
                "df['Polarity'] = df['Tweets'].apply(getPolarity)\r\n",
                "\r\n",
                "# print(df)"
            ],
            "outputs": [],
            "metadata": {}
        },
        {
            "cell_type": "code",
            "execution_count": null,
            "source": [
                "# Create a new function to compute negative, neutral and positive analysis\r\n",
                "\r\n",
                "def getAnalysys(score):\r\n",
                "        if score<0:\r\n",
                "            return 'Negative'\r\n",
                "        elif score==0:\r\n",
                "            return 'Neutral'\r\n",
                "        else:\r\n",
                "            return 'Positive'\r\n",
                "\r\n",
                "df['Analysis'] = df['Polarity'].apply(getAnalysys)\r\n",
                "\r\n",
                "# print(df)"
            ],
            "outputs": [],
            "metadata": {}
        },
        {
            "cell_type": "code",
            "execution_count": null,
            "source": [
                " # print all positive tweets\r\n",
                "# print('*****Positive Tweets*****')\r\n",
                "j = 1\r\n",
                "sortedDF = df.sort_values(by=['Polarity']) # sorts value by polarity\r\n",
                "for i in range(0,sortedDF.shape[0]): # looping through number of rows\r\n",
                "    if (sortedDF['Analysis'][i]=='Positive'): # print if Analysis column is positive\r\n",
                "            # print(str(j) + ')'+ sortedDF['Tweets'][i])\r\n",
                "            # print()\r\n",
                "            j +=1"
            ],
            "outputs": [],
            "metadata": {}
        },
        {
            "cell_type": "code",
            "execution_count": null,
            "source": [
                "# print all negative tweets\r\n",
                "# print('*****Negative Tweets*****')\r\n",
                "j = 1\r\n",
                "sortedDF = df.sort_values(by=['Polarity'], ascending='False')\r\n",
                "for i in range(0,sortedDF.shape[0]):\r\n",
                "     if (sortedDF['Analysis'][i]=='Negative'):\r\n",
                "            # print(str(j) + ')'+ sortedDF['Tweets'][i])\r\n",
                "            # print()\r\n",
                "            j +=1"
            ],
            "outputs": [],
            "metadata": {}
        },
        {
            "cell_type": "code",
            "execution_count": null,
            "source": [
                "# Plot Polarity vs Subjectivity\r\n",
                "plt.figure(figsize=(8,6))\r\n",
                "for i in range(0,df.shape[0]):\r\n",
                "    plt.scatter(df['Polarity'][i],df['Subjectivity'][i], color='Blue')\r\n",
                "\r\n",
                "plt.title('Sentiment Analysis')\r\n",
                "plt.xlabel('Polarity')\r\n",
                "plt.ylabel('Subjectivity')\r\n",
                "plt.show()"
            ],
            "outputs": [],
            "metadata": {}
        },
        {
            "cell_type": "code",
            "execution_count": null,
            "source": [
                "\r\n",
                " # Get the percentage of positive tweets\r\n",
                "ptweets = df[df.Analysis == 'Positive']\r\n",
                "ptweets = ptweets['Tweets']\r\n",
                "percent = round((ptweets.shape[0] / df.shape[0]) * 100, 1)\r\n",
                "print(f'Positive tweets %: {percent}')\r\n",
                "\r\n",
                "\r\n",
                "# Get the percentage of negative tweets\r\n",
                "ntweets = df[df.Analysis == 'Negative']\r\n",
                "ntweets = ntweets['Tweets']\r\n",
                "percent = round((ntweets.shape[0] / df.shape[0]) * 100, 1)\r\n",
                "print(f'Negative tweets %: {percent}')"
            ],
            "outputs": [],
            "metadata": {}
        },
        {
            "cell_type": "code",
            "execution_count": null,
            "source": [
                "# Show value counts\r\n",
                "\r\n",
                "df['Analysis'].value_counts()\r\n",
                "\r\n",
                "# Plot and visualize the counts\r\n",
                "plt.title('Sentiment Analysis')\r\n",
                "plt.xlabel('Sentiment')\r\n",
                "plt.ylabel('Counts')\r\n",
                "df['Analysis'].value_counts().plot(kind='bar')\r\n",
                "plt.show()"
            ],
            "outputs": [],
            "metadata": {}
        }
    ],
    "metadata": {
        "orig_nbformat": 4,
        "language_info": {
            "name": "python",
            "version": "3.9.6",
            "mimetype": "text/x-python",
            "codemirror_mode": {
                "name": "ipython",
                "version": 3
            },
            "pygments_lexer": "ipython3",
            "nbconvert_exporter": "python",
            "file_extension": ".py"
        },
        "kernelspec": {
            "name": "python3",
            "display_name": "Python 3.9.6 64-bit"
        },
        "interpreter": {
            "hash": "b4474bd39aa979d9034cf80f10e2f11f4a0fc3802d205559d129ca421827463e"
        }
    },
    "nbformat": 4,
    "nbformat_minor": 2
}