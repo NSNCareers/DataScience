{
 "cells": [
  {
   "cell_type": "code",
   "execution_count": 5,
   "source": [
    "\r\n",
    "class car:\r\n",
    "\r\n",
    "    def __init__(self,year,speed):\r\n",
    "        self.year = year\r\n",
    "        self.speed = speed\r\n",
    "\r\n",
    "    def getSpeed(self):\r\n",
    "        print(f'Max speed is: {self.speed}')\r\n",
    "    \r\n",
    "    def setSpeed(self,speed):\r\n",
    "        self.speed = speed"
   ],
   "outputs": [],
   "metadata": {}
  },
  {
   "cell_type": "code",
   "execution_count": 7,
   "source": [
    "BMW = car(2021,230)\r\n",
    "# This is encapsulation where we use getters and setters\r\n",
    "# An instance can't change the main class. Objects are bundled and copies made called encapsulation\r\n",
    "BMW.setSpeed(300)\r\n",
    "BMW.getSpeed()"
   ],
   "outputs": [
    {
     "output_type": "stream",
     "name": "stdout",
     "text": [
      "Max speed is: 300\n"
     ]
    }
   ],
   "metadata": {}
  }
 ],
 "metadata": {
  "orig_nbformat": 4,
  "language_info": {
   "name": "python",
   "version": "3.9.6",
   "mimetype": "text/x-python",
   "codemirror_mode": {
    "name": "ipython",
    "version": 3
   },
   "pygments_lexer": "ipython3",
   "nbconvert_exporter": "python",
   "file_extension": ".py"
  },
  "kernelspec": {
   "name": "python3",
   "display_name": "Python 3.9.6 64-bit"
  },
  "interpreter": {
   "hash": "b4474bd39aa979d9034cf80f10e2f11f4a0fc3802d205559d129ca421827463e"
  }
 },
 "nbformat": 4,
 "nbformat_minor": 2
}