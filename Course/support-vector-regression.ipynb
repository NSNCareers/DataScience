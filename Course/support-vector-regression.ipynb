{
    "cells": [
        {
            "cell_type": "code",
            "execution_count": 4,
            "source": [
                "# Support Vector Regression\r\n",
                "\r\n",
                "import numpy as np \r\n",
                "import matplotlib.pyplot as plt\r\n",
                "import pandas as pd\r\n",
                "\r\n",
                "\r\n",
                "# Impoting the data set\r\n",
                "dataset = pd.read_csv('data\\Position_Salaries.csv')\r\n",
                "x = dataset.iloc[:, 1:-1].values # : means the range and -1 means less the last column\r\n",
                "y = dataset.iloc[:,-1].values"
            ],
            "outputs": [],
            "metadata": {}
        },
        {
            "cell_type": "code",
            "execution_count": null,
            "metadata": {},
            "outputs": [],
            "source": []
        }
    ],
    "metadata": {
        "orig_nbformat": 4,
        "language_info": {
            "name": "python",
            "version": "3.9.6"
        },
        "kernelspec": {
            "name": "python3",
            "display_name": "Python 3.9.6 64-bit"
        },
        "interpreter": {
            "hash": "b4474bd39aa979d9034cf80f10e2f11f4a0fc3802d205559d129ca421827463e"
        }
    },
    "nbformat": 4,
    "nbformat_minor": 2
}