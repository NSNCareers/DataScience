{
    "cells": [
        {
            "cell_type": "code",
            "execution_count": 1,
            "source": [
                "import tweepy\r\n",
                "import webbrowser\r\n",
                "import timimport pandas as pde\r\n",
                "\r\n",
                "\r\n",
                "consumer_key = '5iM7WsOnBxmuLwg7N4yFgRGgv'\r\n",
                "consumer_secret ='AprvWHmF9hXWdbEYPMUE3vq4dnJHmRrx7GCJZbi3g4IWPrTFZ3'"
            ],
            "outputs": [],
            "metadata": {}
        },
        {
            "cell_type": "code",
            "execution_count": 2,
            "source": [
                "callback_url= 'oob'\r\n",
                "\r\n",
                "auth= tweepy.OAuthHandler(consumer_key,consumer_secret,callback_url) # Authenticate our User\r\n",
                "redirect_url = auth.get_authorization_url() # Get URL to direct user\r\n",
                "print(redirect_url)"
            ],
            "outputs": [
                {
                    "output_type": "stream",
                    "name": "stdout",
                    "text": [
                        "https://api.twitter.com/oauth/authorize?oauth_token=xwqmLAAAAAABN8cEAAABewNxiEk\n"
                    ]
                }
            ],
            "metadata": {}
        },
        {
            "cell_type": "code",
            "execution_count": 3,
            "source": [
                "webbrowser.open(redirect_url)\r\n",
                "\r\n",
                "user_pint_input = input (\"What's the pin value? \"\n",
                "user_pint_input\n",
                "auth.get_access_token(user_pint_input)\n",
                "api= tweepy.API(auth)\n",
                "me = api.me()\n",
                "print(me.screen_name))\r\n"
            ],
            "outputs": [
                {
                    "output_type": "stream",
                    "name": "stdout",
                    "text": [
                        "nsncareers\n"
                    ]
                }
            ],
            "metadata": {}
        },
        {
            "cell_type": "code",
            "execution_count": null,
            "metadata": {},
            "outputs": [],
            "source": [
                "len(api.home_timeline(count=40))"
            ]
        },
        {
            "cell_type": "code",
            "execution_count": null,
            "metadata": {},
            "outputs": [],
            "source": [
                "for i, status in enumerate(tweepy.Cursor(api.home_timeline, count=50).items(50)):\n",
                "    print(i, status.text)"
            ]
        },
        {
            "cell_type": "code",
            "execution_count": null,
            "metadata": {},
            "outputs": [],
            "source": [
                "other_user = \"therock\"\n",
                "for i, status in enumerate(tweepy.Cursor(api.user_timeline, screen_name=other_user).items(20)):\n",
                "    print(i, status.text)"
            ]
        },
        {
            "cell_type": "code",
            "execution_count": null,
            "metadata": {},
            "outputs": [],
            "source": [
                "the_rock_user = api.get_user(other_user)\n",
                "# dir(the_rock_user)"
            ]
        },
        {
            "cell_type": "code",
            "execution_count": null,
            "metadata": {},
            "outputs": [],
            "source": [
                "\n",
                "the_rocks_friends = []\n",
                "for i, _id in enumerate(tweepy.Cursor(api.friends_ids, screen_name=other_user).items(30)):\n",
                "    print(i, _id)\n",
                "    the_rocks_friends.append(_id)"
            ]
        },
        {
            "cell_type": "code",
            "execution_count": null,
            "metadata": {},
            "outputs": [],
            "source": [
                "\n",
                "# api.get_user(the_rocks_friends[0]).screen_name"
            ]
        },
        {
            "cell_type": "code",
            "execution_count": null,
            "metadata": {},
            "outputs": [],
            "source": [
                "query = \"#django -jQuery -@udemy_es -Bootstrap -Discount\"\n",
                "for i, status in enumerate(tweepy.Cursor(api.search, q=query).items(50)):\n",
                "    print(i, status.text, status.author.screen_name)"
            ]
        },
        {
            "cell_type": "code",
            "execution_count": null,
            "metadata": {},
            "outputs": [],
            "source": [
                "query_username = \"Django\"\n",
                "search_results = set()\n",
                "for i, user in enumerate(tweepy.Cursor(api.search_users, q=query_username).items(50)):\n",
                "    print(i, user.screen_name)\n",
                "    search_results.add(user.screen_name)\n",
                "    \n",
                "print(list(search_results))"
            ]
        },
        {
            "cell_type": "code",
            "execution_count": null,
            "metadata": {},
            "outputs": [],
            "source": [
                "query_username = \"TheRock\"\n",
                "\n",
                "def process_page(page_results):\n",
                "    for i, user in enumerate(page_results):\n",
                "        print(i, user.screen_name)\n",
                "\n",
                "for i, page in enumerate(tweepy.Cursor(api.search_users, q=query_username, per_page=10).pages(3)):\n",
                "    print(i, \"page\")\n",
                "    process_page(page)"
            ]
        },
        {
            "cell_type": "code",
            "execution_count": null,
            "metadata": {},
            "outputs": [],
            "source": [
                "import time\n",
                "\n",
                "def limit_handled(cursor):\n",
                "    while True:\n",
                "        try:\n",
                "            yield cursor.next()\n",
                "        except tweepy.RateLimitError:\n",
                "            # send email / webhook / log\n",
                "            time.sleep(15 * 60) # 15 minutes = 15 * 60 seconds"
            ]
        },
        {
            "cell_type": "code",
            "execution_count": null,
            "metadata": {},
            "outputs": [],
            "source": [
                "for follower in limit_handled(tweepy.Cursor(api.followers).items()):\n",
                "    print(follower.screen_name)"
            ]
        }
    ],
    "metadata": {
        "orig_nbformat": 4,
        "language_info": {
            "name": "python",
            "version": "3.9.6",
            "mimetype": "text/x-python",
            "codemirror_mode": {
                "name": "ipython",
                "version": 3
            },
            "pygments_lexer": "ipython3",
            "nbconvert_exporter": "python",
            "file_extension": ".py"
        },
        "kernelspec": {
            "name": "python3",
            "display_name": "Python 3.9.6 64-bit"
        },
        "interpreter": {
            "hash": "b4474bd39aa979d9034cf80f10e2f11f4a0fc3802d205559d129ca421827463e"
        }
    },
    "nbformat": 4,
    "nbformat_minor": 2
}