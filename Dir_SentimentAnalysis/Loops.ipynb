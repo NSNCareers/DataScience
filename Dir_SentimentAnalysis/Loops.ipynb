{
    "cells": [
        {
            "cell_type": "code",
            "execution_count": null,
            "source": [
                "# Is a list iterable\r\n",
                "# Use the dir function to locate if a list is iterable by locating the __iter__ method\r\n",
                "weights = [100,200,300,400,5000,600,700]\r\n",
                "\r\n",
                "print(dir(weights))\r\n",
                "\r\n",
                "for weight in weights:\r\n",
                "    print(weight)"
            ],
            "outputs": [],
            "metadata": {}
        },
        {
            "cell_type": "code",
            "execution_count": null,
            "source": [
                "# 2 dimension lists\r\n",
                "num1 = [1,2,3,4,5]\r\n",
                "num2 = [6,7,8,9,10]\r\n",
                "num3 = [11,12,13,14,15]\r\n",
                "num4 = [0]\r\n",
                "number_grid = [num1,num2,num3,num4]\r\n",
                "\r\n",
                "# Access elements\r\n",
                "print(number_grid[1][3]) #list and index\r\n",
                "\r\n",
                "# Loop \r\n",
                "for nested_lists in number_grid:\r\n",
                "    print(nested_lists)\r\n",
                "\r\n",
                "# Nested Loop \r\n",
                "for nested_lists in number_grid:\r\n",
                "    for elements in nested_lists:\r\n",
                "        print(elements)"
            ],
            "outputs": [],
            "metadata": {}
        },
        {
            "cell_type": "code",
            "execution_count": null,
            "source": [
                "# List comprehension\r\n",
                "\r\n",
                "nums = [1,2,3,4,5,6,7]\r\n",
                "fruits = ['Peaches','Apples','Grapes','Oranges','Plums','Paw Paw','Banana']\r\n",
                "\r\n",
                "x = [(i,f) for i in nums for f in fruits]\r\n",
                "# print(x) # We created a list ofturples\r\n",
                "\r\n",
                "x = [[i,f] for i in nums for f in fruits]\r\n",
                "# print(x) # We created a list of lists\r\n",
                "\r\n",
                "x = [{i:f} for i in nums for f in fruits]\r\n",
                "# print(x) # We created a list of dictionary\r\n",
                "\r\n",
                "x = [set([i,f]) for i in nums for f in fruits]\r\n",
                "print(x) # We created a list of sets\r\n"
            ],
            "outputs": [],
            "metadata": {}
        },
        {
            "cell_type": "code",
            "execution_count": null,
            "source": [
                "# List comprehension\r\n",
                "# Your highest for loop is the list that comes first\r\n",
                "nums = [1,2,3,4,5,6,7]\r\n",
                "fruits = ['Peaches','Apples','Grapes','Oranges','Plums','Paw Paw','Banana']\r\n",
                "\r\n",
                "for i in nums:\r\n",
                "    for f in fruits:\r\n",
                "        print(i,f)"
            ],
            "outputs": [],
            "metadata": {}
        },
        {
            "cell_type": "code",
            "execution_count": null,
            "source": [
                "# List comprehension\r\n",
                "# Your highest for loop is the list that comes first\r\n",
                "nums = [1,2,3,4,5,6,7]\r\n",
                "fruits = ['Peaches','Apples','Grapes','Oranges','Plums','Paw Paw','Banana']\r\n",
                "xters = ['£','$','%','&','#','@','/']\r\n",
                "nums_fruits = [nums,fruits,xters]\r\n",
                "\r\n",
                "for nested_lists in nums_fruits:\r\n",
                "        # print(nested_lists)\r\n",
                "        for x in nested_lists:\r\n",
                "                print(x)"
            ],
            "outputs": [],
            "metadata": {}
        },
        {
            "cell_type": "code",
            "execution_count": null,
            "source": [
                "# Flattening lists\r\n",
                "nums = [1,2,3,4,5,6,7]\r\n",
                "fruits = ['Peaches','Apples','Grapes','Oranges','Plums','Paw Paw','Banana']\r\n",
                "xters = ['£','$','%','&','#','@','/']\r\n",
                "sub_lists = [nums,fruits,xters]\r\n",
                "x = [item for item in sub_lists]\r\n",
                "print(x)"
            ],
            "outputs": [],
            "metadata": {}
        },
        {
            "cell_type": "code",
            "execution_count": null,
            "source": [
                "# Flattening lists\r\n",
                "# We first loop through sub_lists\r\n",
                "# Then we loop though waht we get from looping through the sub_lists\r\n",
                "nums = [1,2,3,4,5,6,7]\r\n",
                "fruits = ['Peaches','Apples','Grapes','Oranges','Plums','Paw Paw','Banana']\r\n",
                "xters = ['£','$','%','&','#','@','/']\r\n",
                "sub_lists = [nums,fruits,xters]\r\n",
                "x = [item for x in sub_lists for item in x]\r\n",
                "print(x)"
            ],
            "outputs": [],
            "metadata": {}
        },
        {
            "cell_type": "code",
            "execution_count": null,
            "source": [
                "# Range\r\n",
                "for i in range(4):\r\n",
                "    for x in range(5):\r\n",
                "        # print(i,x, end=' ') # Print on one line\r\n",
                "        print(i,x)"
            ],
            "outputs": [],
            "metadata": {}
        },
        {
            "cell_type": "code",
            "execution_count": null,
            "source": [
                "\r\n",
                "students = {\r\n",
                "    'Tom':[67,21,34,67,86],\r\n",
                "    'Kate':[87,48,99,54,44],\r\n",
                "    'Bill':[76,93,45,30,50]\r\n",
                "}\r\n",
                "\r\n",
                "# Get values\r\n",
                "for grades in students.values():\r\n",
                "    print(grades)\r\n",
                "\r\n",
                "\r\n",
                "# Get keys\r\n",
                "for keys in students.keys():\r\n",
                "    print(keys)\r\n",
                "\r\n",
                "\r\n",
                "for grades in students.values():\r\n",
                "    for x in grades:\r\n",
                "        print(x)"
            ],
            "outputs": [],
            "metadata": {}
        },
        {
            "cell_type": "code",
            "execution_count": 37,
            "source": [
                "# len\r\n",
                "\r\n",
                "students = {\r\n",
                "    'Tom':[67,21,34,67,86],\r\n",
                "    'Kate':[87,48,99,54,44],\r\n",
                "    'Bill':[76,93,45,30,50]\r\n",
                "}\r\n",
                "\r\n",
                "# Get values\r\n",
                "for i in range(len(students['Bill'])):\r\n",
                "    students['Bill'][i] += 10\r\n",
                "\r\n",
                "print(students)"
            ],
            "outputs": [
                {
                    "output_type": "stream",
                    "name": "stdout",
                    "text": [
                        "{'Tom': [67, 21, 34, 67, 86], 'Kate': [87, 48, 99, 54, 44], 'Bill': [86, 103, 55, 40, 60]}\n"
                    ]
                }
            ],
            "metadata": {}
        }
    ],
    "metadata": {
        "orig_nbformat": 4,
        "language_info": {
            "name": "python",
            "version": "3.9.6",
            "mimetype": "text/x-python",
            "codemirror_mode": {
                "name": "ipython",
                "version": 3
            },
            "pygments_lexer": "ipython3",
            "nbconvert_exporter": "python",
            "file_extension": ".py"
        },
        "kernelspec": {
            "name": "python3",
            "display_name": "Python 3.9.6 64-bit"
        },
        "interpreter": {
            "hash": "b4474bd39aa979d9034cf80f10e2f11f4a0fc3802d205559d129ca421827463e"
        }
    },
    "nbformat": 4,
    "nbformat_minor": 2
}