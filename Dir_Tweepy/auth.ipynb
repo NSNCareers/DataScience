{
    "cells": [
        {
            "cell_type": "code",
            "execution_count": null,
            "source": [
                "import tweepy\r\n",
                "import webbrowser\r\n",
                "import time\r\n",
                "\r\n",
                "\r\n",
                "consumer_key = '5iM7WsOnBxmuLwg7N4yFgRGgv'\r\n",
                "consumer_secret ='AprvWHmF9hXWdbEYPMUE3vq4dnJHmRrx7GCJZbi3g4IWPrTFZ3'"
            ],
            "outputs": [],
            "metadata": {}
        },
        {
            "cell_type": "code",
            "execution_count": null,
            "source": [
                "callback_url= 'oob'\r\n",
                "\r\n",
                "auth= tweepy.OAuthHandler(consumer_key,consumer_secret,callback_url) # Authenticate our User\r\n",
                "redirect_url = auth.get_authorization_url() # Get URL to direct user\r\n",
                "print(redirect_url)"
            ],
            "outputs": [],
            "metadata": {}
        },
        {
            "cell_type": "code",
            "execution_count": null,
            "source": [
                "webbrowser.open(redirect_url)\r\n",
                "\r\n",
                "user_pint_input = input (\"What's the pin value? \")\r\n"
            ],
            "outputs": [],
            "metadata": {}
        },
        {
            "cell_type": "code",
            "execution_count": null,
            "source": [
                "user_pint_input\r\n"
            ],
            "outputs": [],
            "metadata": {}
        },
        {
            "cell_type": "code",
            "execution_count": null,
            "source": [
                "auth.get_access_token(user_pint_input)"
            ],
            "outputs": [],
            "metadata": {}
        },
        {
            "cell_type": "code",
            "execution_count": 8,
            "source": [
                "api= tweepy.API(auth)"
            ],
            "outputs": [],
            "metadata": {}
        },
        {
            "cell_type": "code",
            "execution_count": 9,
            "source": [
                "me = api.me()\r\n",
                "print(me.screen_name)"
            ],
            "outputs": [],
            "metadata": {}
        }
    ],
    "metadata": {
        "orig_nbformat": 4,
        "language_info": {
            "name": "python",
            "version": "3.9.6",
            "mimetype": "text/x-python",
            "codemirror_mode": {
                "name": "ipython",
                "version": 3
            },
            "pygments_lexer": "ipython3",
            "nbconvert_exporter": "python",
            "file_extension": ".py"
        },
        "kernelspec": {
            "name": "python3",
            "display_name": "Python 3.9.6 64-bit"
        },
        "interpreter": {
            "hash": "b4474bd39aa979d9034cf80f10e2f11f4a0fc3802d205559d129ca421827463e"
        }
    },
    "nbformat": 4,
    "nbformat_minor": 2
}