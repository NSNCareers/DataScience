{
 "metadata": {
  "language_info": {
   "codemirror_mode": {
    "name": "ipython",
    "version": 3
   },
   "file_extension": ".py",
   "mimetype": "text/x-python",
   "name": "python",
   "nbconvert_exporter": "python",
   "pygments_lexer": "ipython3",
   "version": "3.9.6"
  },
  "orig_nbformat": 4,
  "kernelspec": {
   "name": "python3",
   "display_name": "Python 3.9.6 64-bit"
  },
  "interpreter": {
   "hash": "b4474bd39aa979d9034cf80f10e2f11f4a0fc3802d205559d129ca421827463e"
  }
 },
 "nbformat": 4,
 "nbformat_minor": 2,
 "cells": [
  {
   "cell_type": "code",
   "execution_count": null,
   "metadata": {
    "tags": []
   },
   "outputs": [],
   "source": [
    "import pandas as pd\n",
    "from bs4 import BeautifulSoup\n",
    "import  requests as rq \n",
    "import csv\n",
    "\n",
    "html_output = rq.get('http://forecast.weather.gov/MapClick.php?lat=37.7772&lon=-122.4168')\n",
    "soup = BeautifulSoup(html_output.text,'html.parser')\n",
    "print(soup.prettify())"
   ]
  },
  {
   "cell_type": "code",
   "execution_count": null,
   "metadata": {},
   "outputs": [],
   "source": [
    "# Get all a tags\n",
    "a_tags = soup.find_all('a')\n",
    "for x in a_tags:\n",
    "    print(x.getText())"
   ]
  },
  {
   "cell_type": "code",
   "execution_count": null,
   "metadata": {},
   "outputs": [],
   "source": [
    "# Get all b tags\n",
    "b_tags = soup.find_all('b')\n",
    "for x in b_tags:\n",
    "    print(x.get_text())"
   ]
  },
  {
   "cell_type": "code",
   "execution_count": 18,
   "metadata": {},
   "outputs": [
    {
     "output_type": "stream",
     "name": "stdout",
     "text": [
      "['Mostly Cloudy', 'Partly Sunnythen Sunnyand Breezy', 'Partly Cloudyand Breezythen MostlyCloudy', 'DecreasingClouds', 'Mostly Cloudy', 'Mostly Sunny', 'Mostly Clear', 'Sunny', 'Partly Cloudy']\n"
     ]
    }
   ],
   "source": [
    "# Print tags that are repeated in html dom\n",
    "# we can access tags as attributes \n",
    "seven_day = soup.find('div',{'id':'seven-day-forecast-body'})\n",
    "forcast = seven_day.find_all('li',{'class':'forecast-tombstone'})\n",
    "days = [item.find('p',{'class':'period-name'}).get_text() for item in forcast]\n",
    "\n",
    "# descri = [item.find('p',{'class':'short-desc'}).get_text() for item in forcast]\n",
    "descri=[]\n",
    "for x in forcast:\n",
    "    y = xy.find('p',{'class':'short-desc'}.text\n",
    "    descri.append(y))\n",
    "temp = [item.find('p',{'class':'temp'}).get_text() for item in forcast]\n",
    "print(descri)\n",
    "    "
   ]
  },
  {
   "cell_type": "code",
   "execution_count": null,
   "metadata": {},
   "outputs": [],
   "source": [
    "\n",
    "meta_tag = soup.find_all('meta')\n",
    "for mtag in meta_tag:\n",
    "    cities = mtag['name']\n",
    "    print(cities)"
   ]
  },
  {
   "cell_type": "code",
   "execution_count": null,
   "metadata": {},
   "outputs": [],
   "source": [
    "# Find first Tag, lets get first li tag\n",
    "# We can now find another tag or attribute in our results\n",
    "# Use try catch block to avoid exception\n",
    "li_tag = soup.find('div',{'class':'contentArea'})\n",
    "parag = li_tag.find_all('p')\n",
    "for x in parag:\n",
    "    # print(x)\n",
    "    # print(x.text)\n",
    "    try:\n",
    "        print(x.text.split()[-1])\n",
    "    except:\n",
    "        print('List was empty')"
   ]
  },
  {
   "cell_type": "code",
   "execution_count": null,
   "metadata": {},
   "outputs": [],
   "source": [
    "# Add to file\n",
    "\n",
    "with open('scrapping.csv','w', encoding='UTF8') as csv_file:\n",
    "    csv_writer = csv.writer(csv_file)\n",
    "    csv_writer.writerow(['Period', 'Description'])\n",
    "    csv_writer.writerow([days,descri])\n",
    "\n"
   ]
  },
  {
   "cell_type": "code",
   "execution_count": null,
   "metadata": {},
   "outputs": [],
   "source": []
  },
  {
   "cell_type": "code",
   "execution_count": null,
   "metadata": {},
   "outputs": [],
   "source": [
    "weather = pd.DataFrame(\n",
    "    {\n",
    "    'Period':days,\n",
    "    'Description':descri,\n",
    "    'Temperature':temp,\n",
    "    })\n",
    "\n",
    "print(weather)"
   ]
  },
  {
   "cell_type": "code",
   "execution_count": null,
   "metadata": {},
   "outputs": [],
   "source": [
    "weather.to_csv('scrapping.csv', sep='\\t', encoding='utf-8')"
   ]
  },
  {
   "cell_type": "code",
   "execution_count": null,
   "metadata": {},
   "outputs": [],
   "source": []
  }
 ]
}