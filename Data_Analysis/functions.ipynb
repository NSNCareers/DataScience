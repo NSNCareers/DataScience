{
 "cells": [
  {
   "cell_type": "code",
   "execution_count": null,
   "source": [
    "import pandas as pd\r\n",
    "import  numpy as np"
   ],
   "outputs": [],
   "metadata": {}
  },
  {
   "cell_type": "code",
   "execution_count": null,
   "source": [
    "dt = pd.read_csv(\"data/2019 -file.csv\",na_values=False)\r\n",
    "\r\n",
    "# Writting in files using Python build in liabrary\r\n",
    "f = open('data/2019 -file.csv','r')\r\n",
    "f.close() # To avoid memory leaks\r\n",
    "# r = read\r\n",
    "# w = write\r\n",
    "# a = append"
   ],
   "outputs": [],
   "metadata": {}
  },
  {
   "cell_type": "code",
   "execution_count": null,
   "source": [
    "# Using Context manager\r\n",
    "with open('data/2019 -file.csv','r') as f:\r\n",
    "    # file_Contents = f.read() # For small files\r\n",
    "    file_Contents = f.readlines() # Returns a list\r\n",
    "    # file_Contents = f.readline() # returns each line\r\n",
    "    print(file_Contents)"
   ],
   "outputs": [],
   "metadata": {}
  },
  {
   "cell_type": "code",
   "execution_count": null,
   "source": [
    "# Export to new file\r\n",
    "filt = (dt['Country or region']== 'Denmark')\r\n",
    "senegal_dt = dt.loc[filt]\r\n",
    "modified_excel = dt.to_csv('data/2019Modified.csv')\r\n",
    "# Export json\r\n",
    "modified_json = dt.to_json('data/2019Modified.json',orient='records', lines = True)"
   ],
   "outputs": [],
   "metadata": {}
  },
  {
   "cell_type": "code",
   "execution_count": null,
   "source": [
    "get_rowLength = dt['Country or region'].apply(len) # Gets the length of each row\r\n",
    "\r\n",
    "def update_countryOrRegion1(country):\r\n",
    "    return country.upper()\r\n",
    "\r\n",
    "def update_countryOrRegion2(country):\r\n",
    "    if country == 'Norway':\r\n",
    "        return country.replace('Norway','Zimbabwe')\r\n",
    "    else:\r\n",
    "        return country\r\n",
    "\r\n",
    "def update_countryOrRegion3(country):\r\n",
    "    if country == 'Denmark':\r\n",
    "        return country.strip('Den')\r\n",
    "    else:\r\n",
    "        return country\r\n",
    "\r\n",
    "def update_country(country):\r\n",
    "    if country == 'Finland is very cold':\r\n",
    "        return country.replace('is very cold','')\r\n",
    "    else:\r\n",
    "        return country\r\n",
    "\r\n",
    "def updateRow(country):\r\n",
    "    if '#' in country:\r\n",
    "        return country.replace('#','')\r\n",
    "    else:\r\n",
    "        return country\r\n"
   ],
   "outputs": [],
   "metadata": {}
  },
  {
   "cell_type": "code",
   "execution_count": null,
   "source": [
    "# Check bool result\r\n",
    "dt['Country or region'].str.contains('Finland')"
   ],
   "outputs": [],
   "metadata": {}
  },
  {
   "cell_type": "code",
   "execution_count": null,
   "source": [
    "\r\n",
    "dt['Country or region'].apply(updateRow)"
   ],
   "outputs": [],
   "metadata": {}
  },
  {
   "cell_type": "code",
   "execution_count": null,
   "source": [
    "dt['Country or region'].apply(lambda x : x.lower())\r\n"
   ],
   "outputs": [],
   "metadata": {}
  },
  {
   "cell_type": "code",
   "execution_count": null,
   "source": [
    "\r\n",
    "dt['Country or region'].apply(lambda x: x.replace('is very cold',''))"
   ],
   "outputs": [],
   "metadata": {}
  },
  {
   "cell_type": "code",
   "execution_count": null,
   "source": [
    "\r\n",
    "dt['Country or region'].apply(update_countryOrRegion2)"
   ],
   "outputs": [],
   "metadata": {}
  },
  {
   "cell_type": "code",
   "execution_count": null,
   "source": [
    "# Applymap works for the entire dataframe\r\n",
    "# dt.applymap(len) # If all your columns are strings"
   ],
   "outputs": [],
   "metadata": {}
  },
  {
   "cell_type": "code",
   "execution_count": null,
   "source": [
    "# Map only works for a series\r\n",
    "dt['Country or region'].map({'Denmark#':'DDK','Norway':'Euro'}) # mapps with nan values"
   ],
   "outputs": [],
   "metadata": {}
  },
  {
   "cell_type": "code",
   "execution_count": null,
   "source": [
    "dt['Country or region'].replace({'Denmark#':'DDK','Norway':'Euro'})"
   ],
   "outputs": [],
   "metadata": {}
  },
  {
   "cell_type": "code",
   "execution_count": 25,
   "source": [
    "# Rename\r\n",
    "dt.rename(columns = {'Country or region':'Country'}, inplace = True)\r\n",
    "dt"
   ],
   "outputs": [],
   "metadata": {}
  }
 ],
 "metadata": {
  "orig_nbformat": 4,
  "language_info": {
   "name": "python",
   "version": "3.9.6",
   "mimetype": "text/x-python",
   "codemirror_mode": {
    "name": "ipython",
    "version": 3
   },
   "pygments_lexer": "ipython3",
   "nbconvert_exporter": "python",
   "file_extension": ".py"
  },
  "kernelspec": {
   "name": "python3",
   "display_name": "Python 3.9.6 64-bit"
  },
  "interpreter": {
   "hash": "b4474bd39aa979d9034cf80f10e2f11f4a0fc3802d205559d129ca421827463e"
  }
 },
 "nbformat": 4,
 "nbformat_minor": 2
}