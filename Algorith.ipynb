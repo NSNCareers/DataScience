{
 "cells": [
  {
   "cell_type": "code",
   "execution_count": null,
   "source": [
    "import random as rn"
   ],
   "outputs": [],
   "metadata": {}
  },
  {
   "cell_type": "code",
   "execution_count": null,
   "source": [
    "# Lottery Ticket\r\n",
    "lotto = []\r\n",
    "\r\n",
    "\r\n",
    "while len(lotto) < 8:\r\n",
    "    ranum = rn.randint(0,10)\r\n",
    "    if ranum not in lotto:\r\n",
    "        lotto.append(ranum)\r\n",
    "\r\n",
    "print(lotto)"
   ],
   "outputs": [],
   "metadata": {}
  },
  {
   "cell_type": "code",
   "execution_count": null,
   "source": [
    "# Print max\r\n",
    "\r\n",
    "num = [21,32,2,5,88,43,3,6,1,2,8,11,5,9,45]\r\n",
    "max = num[0] # initialkize to first element\r\n",
    "\r\n",
    "for i in range(len(num)-1):\r\n",
    "    if num[i] > max:\r\n",
    "        max = num[i]\r\n",
    "    \r\n",
    "print(max)"
   ],
   "outputs": [],
   "metadata": {}
  },
  {
   "cell_type": "code",
   "execution_count": null,
   "source": [
    "# Print min\r\n",
    "\r\n",
    "num = [21,32,2,5,88,43,3,6,1,2,8,11,5,9,45]\r\n",
    "min = num[0] # initialkize to first element\r\n",
    "\r\n",
    "for i in range(len(num)-1):\r\n",
    "    if num[i] < min:\r\n",
    "        min = num[i]\r\n",
    "    \r\n",
    "print(min)"
   ],
   "outputs": [],
   "metadata": {}
  },
  {
   "cell_type": "code",
   "execution_count": null,
   "source": [
    "# Order sequence\r\n",
    "# Create an inner loop that compare the second element to the first of the outer loop\r\n",
    "\r\n",
    "num = [21,32,2,5,88,43,3,6,1,2,8,11,5,9,45]\r\n",
    "temp = 0\r\n",
    "\r\n",
    "for i in range(0,len(num)): # loops from zero excluding the last element\r\n",
    "    for j in range(i+1,len(num)): # Compares inner loop element to outer\r\n",
    "        if num[i] > num[j]:\r\n",
    "            temp = num[j]\r\n",
    "            num[j] = num[i]\r\n",
    "            num[i] = temp\r\n",
    "\r\n",
    "    \r\n",
    "print(num)"
   ],
   "outputs": [],
   "metadata": {}
  },
  {
   "cell_type": "code",
   "execution_count": 42,
   "source": [
    "# Fiz buzz\r\n",
    "\r\n",
    "numbers = [1,2,3,4,5,6,7,8,9,10,11,12,13,14,15,16,17,18,19,20,21,22,23,24,25]\r\n",
    "\r\n",
    "for x in numbers:\r\n",
    "    if x % 3 == 0 & x % 5 == 0:\r\n",
    "        print('Fizz Buzz')\r\n",
    "    if x % 3 == 0:\r\n",
    "        print('Fizz')\r\n",
    "    if x % 5 == 0:\r\n",
    "        print('Buzz')\r\n",
    "    else:\r\n",
    "        print(x)\r\n",
    "\r\n",
    "        "
   ],
   "outputs": [
    {
     "output_type": "stream",
     "name": "stdout",
     "text": [
      "Fizz Buzz\n",
      "Fizz\n",
      "Buzz\n",
      "Fizz Buzz\n",
      "Fizz\n",
      "Fizz Buzz\n",
      "Fizz\n",
      "Buzz\n",
      "Fizz Buzz\n",
      "Fizz\n",
      "Fizz Buzz\n",
      "Fizz\n",
      "Buzz\n",
      "Fizz Buzz\n",
      "Fizz\n",
      "Buzz\n",
      "Fizz Buzz\n",
      "Fizz\n",
      "Fizz Buzz\n",
      "Fizz\n",
      "Buzz\n"
     ]
    }
   ],
   "metadata": {}
  }
 ],
 "metadata": {
  "orig_nbformat": 4,
  "language_info": {
   "name": "python",
   "version": "3.9.6",
   "mimetype": "text/x-python",
   "codemirror_mode": {
    "name": "ipython",
    "version": 3
   },
   "pygments_lexer": "ipython3",
   "nbconvert_exporter": "python",
   "file_extension": ".py"
  },
  "kernelspec": {
   "name": "python3",
   "display_name": "Python 3.9.6 64-bit"
  },
  "interpreter": {
   "hash": "b4474bd39aa979d9034cf80f10e2f11f4a0fc3802d205559d129ca421827463e"
  }
 },
 "nbformat": 4,
 "nbformat_minor": 2
}