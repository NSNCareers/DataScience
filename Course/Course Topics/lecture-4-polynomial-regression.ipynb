{
    "cells": [
        {
            "cell_type": "code",
            "execution_count": null,
            "source": [
                "# Polynomial Regression\r\n",
                "\r\n",
                "import numpy as np \r\n",
                "import matplotlib.pyplot as plt\r\n",
                "import pandas as pd\r\n",
                "from sklearn.linear_model import LinearRegression\r\n",
                "from sklearn.preprocessing import PolynomialFeatures"
            ],
            "outputs": [],
            "metadata": {}
        },
        {
            "cell_type": "markdown",
            "source": [
                "Impoting the data set"
            ],
            "metadata": {}
        },
        {
            "cell_type": "code",
            "execution_count": null,
            "source": [
                "\r\n",
                "dataset = pd.read_csv('..\\data\\Position_Salaries.csv')\r\n",
                "x = dataset.iloc[:, 1:-1].values # : means the range and -1 means less the last column\r\n",
                "y = dataset.iloc[:,-1].values"
            ],
            "outputs": [],
            "metadata": {}
        },
        {
            "cell_type": "markdown",
            "source": [
                "Train the linear regression model"
            ],
            "metadata": {}
        },
        {
            "cell_type": "code",
            "execution_count": null,
            "source": [
                "\r\n",
                "# We did not train the data set so as to maximise our data\r\n",
                "\r\n",
                "lin_reg = LinearRegression()\r\n",
                "lin_reg.fit(x,y)"
            ],
            "outputs": [],
            "metadata": {}
        },
        {
            "cell_type": "markdown",
            "source": [
                "Train the polynomial linear regression model"
            ],
            "metadata": {}
        },
        {
            "cell_type": "code",
            "execution_count": null,
            "source": [
                "# y = a + b1x + b2x^2 +....+ bnx^n\r\n",
                "\r\n",
                "poly_reg = PolynomialFeatures(degree=4) # n=2\r\n",
                "x_poly = poly_reg.fit_transform(x) # Transforms the position levels and the squares of the position levels\r\n",
                "lin_reg_2 = LinearRegression()\r\n",
                "lin_reg_2.fit(x_poly,y)"
            ],
            "outputs": [],
            "metadata": {}
        },
        {
            "cell_type": "code",
            "execution_count": null,
            "source": [
                "\r\n",
                "\r\n",
                "y_pred = lin_reg_2.predict(x_poly)\r\n",
                "\r\n",
                "df = pd.DataFrame({'Actual': y, 'Predicted': y_pred})\r\n",
                "df"
            ],
            "outputs": [],
            "metadata": {}
        },
        {
            "cell_type": "code",
            "execution_count": null,
            "source": [
                "# Visualising the Linear regression results\r\n",
                "\r\n",
                "plt.scatter(x,y, color = 'red')\r\n",
                "plt.plot(x,lin_reg.predict(x),color = 'blue')\r\n",
                "plt.title('Truth or Bluff (Linear Regression)')\r\n",
                "plt.xlabel('Position Level')\r\n",
                "plt.ylabel('Salary')\r\n",
                "plt.show()"
            ],
            "outputs": [],
            "metadata": {}
        },
        {
            "cell_type": "code",
            "execution_count": null,
            "source": [
                "# Visualising the Polynomial Linear regression results\r\n",
                "\r\n",
                "plt.scatter(x,y, color = 'red')\r\n",
                "plt.plot(x,lin_reg_2.predict(x_poly),color = 'blue')\r\n",
                "plt.title('Truth or Bluff (Linear Regression)')\r\n",
                "plt.xlabel('Position Level')\r\n",
                "plt.ylabel('Salary')\r\n",
                "plt.show()\r\n",
                "# Visualising the Polynomial Linear regression results (For higher resolution for n=3,4.....)\r\n",
                "# set n=4 then rebuild model"
            ],
            "outputs": [],
            "metadata": {}
        },
        {
            "cell_type": "code",
            "execution_count": null,
            "source": [
                "# Visualising the Polynomial Linear regression results\r\n",
                "x_grid = np.arange(min(x),max(x),0.1)\r\n",
                "x_grid = x_grid.reshape((len(x_grid),1))\r\n",
                "plt.scatter(x,y, color = 'red')\r\n",
                "plt.plot(x_grid,lin_reg_2.predict(poly_reg.fit_transform(x_grid)),color = 'blue')\r\n",
                "plt.title('Truth or Bluff (Linear Regression)')\r\n",
                "plt.xlabel('Position Level')\r\n",
                "plt.ylabel('Salary')\r\n",
                "plt.show()\r\n",
                "# Visualising the Polynomial Linear regression results (For higher resolution for n=3,4.....)\r\n",
                "# set n=4 then rebuild model"
            ],
            "outputs": [],
            "metadata": {}
        },
        {
            "cell_type": "code",
            "execution_count": null,
            "source": [
                "# Predicting a new result with Linear Regression\r\n",
                "\r\n",
                "lin_reg.predict([[6.5]]) # Rows and columns [[]]"
            ],
            "outputs": [],
            "metadata": {}
        },
        {
            "cell_type": "code",
            "execution_count": null,
            "source": [
                "# Predicting a new result with Polynomial Linear Regression\r\n",
                "\r\n",
                "lin_reg_2.predict(poly_reg.fit_transform([[6.5]])) # Rows and columns [[]]"
            ],
            "outputs": [],
            "metadata": {}
        }
    ],
    "metadata": {
        "orig_nbformat": 4,
        "language_info": {
            "name": "python",
            "version": "3.9.6",
            "mimetype": "text/x-python",
            "codemirror_mode": {
                "name": "ipython",
                "version": 3
            },
            "pygments_lexer": "ipython3",
            "nbconvert_exporter": "python",
            "file_extension": ".py"
        },
        "kernelspec": {
            "name": "python3",
            "display_name": "Python 3.9.6 64-bit"
        },
        "interpreter": {
            "hash": "b4474bd39aa979d9034cf80f10e2f11f4a0fc3802d205559d129ca421827463e"
        }
    },
    "nbformat": 4,
    "nbformat_minor": 2
}