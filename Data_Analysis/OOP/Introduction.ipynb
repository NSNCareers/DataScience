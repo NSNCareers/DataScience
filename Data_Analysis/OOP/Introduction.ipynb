{
 "cells": [
  {
   "cell_type": "markdown",
   "source": [
    "***Object***\r\n",
    "An entity that has state and behavior is known as an object e.g., chair, bike, marker, pen, table, car, etc.\r\n",
    "It can be physical or logical (tangible and intangible).\r\n",
    "The example of an intangible object is the banking system.\r\n",
    "***Object***"
   ],
   "metadata": {}
  },
  {
   "cell_type": "markdown",
   "source": [
    "***Class***\r\n",
    "Collection of objects is called class. It is a logical entity.\r\n",
    "A class can also be defined as a blueprint from which you can create an individual object.\r\n",
    "Class doesn't consume any space.\r\n",
    "***Class***"
   ],
   "metadata": {}
  },
  {
   "cell_type": "markdown",
   "source": [
    "***Inheritance***\r\n",
    "When one object acquires all the properties and behaviors of a parent object, it is known as inheritance.\r\n",
    "It provides code reusability.\r\n",
    "It is used to achieve runtime polymorphism.\r\n",
    "***Inheritance***"
   ],
   "metadata": {}
  },
  {
   "cell_type": "markdown",
   "source": [
    "***Polymorphism***\r\n",
    "If one task is performed in different ways, it is known as polymorphism.\r\n",
    "A method or interface\r\n",
    "***Polymorphism***"
   ],
   "metadata": {}
  },
  {
   "cell_type": "markdown",
   "source": [
    "***Abstraction***\r\n",
    "Hiding internal details and showing functionality is known as abstraction.\r\n",
    "For example phone call, we don't know the internal processing.\r\n",
    "***Abstraction***"
   ],
   "metadata": {}
  },
  {
   "cell_type": "markdown",
   "source": [
    "***Encapsulation***\r\n",
    "Binding (or wrapping) code and data together into a single unit are known as encapsulation.\r\n",
    "***Encapsulation***"
   ],
   "metadata": {}
  }
 ],
 "metadata": {
  "orig_nbformat": 4,
  "language_info": {
   "name": "python",
   "version": "3.9.6"
  },
  "kernelspec": {
   "name": "python3",
   "display_name": "Python 3.9.6 64-bit"
  },
  "interpreter": {
   "hash": "b4474bd39aa979d9034cf80f10e2f11f4a0fc3802d205559d129ca421827463e"
  }
 },
 "nbformat": 4,
 "nbformat_minor": 2
}