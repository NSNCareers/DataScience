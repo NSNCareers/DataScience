{
 "metadata": {
  "language_info": {
   "codemirror_mode": {
    "name": "ipython",
    "version": 3
   },
   "file_extension": ".py",
   "mimetype": "text/x-python",
   "name": "python",
   "nbconvert_exporter": "python",
   "pygments_lexer": "ipython3",
   "version": "3.9.6"
  },
  "orig_nbformat": 4,
  "kernelspec": {
   "name": "python3",
   "display_name": "Python 3.9.6 64-bit"
  },
  "interpreter": {
   "hash": "b4474bd39aa979d9034cf80f10e2f11f4a0fc3802d205559d129ca421827463e"
  }
 },
 "nbformat": 4,
 "nbformat_minor": 2,
 "cells": [
  {
   "cell_type": "code",
   "execution_count": null,
   "source": [
    "import pandas as pd\r\n",
    "from bs4 import BeautifulSoup\r\n",
    "import  requests as rq \r\n",
    "import csv\r\n",
    "\r\n",
    "html_output = rq.get('http://forecast.weather.gov/MapClick.php?lat=37.7772&lon=-122.4168')\r\n",
    "soup = BeautifulSoup(html_output.text,'html.parser')\r\n",
    "print(soup.prettify())"
   ],
   "outputs": [],
   "metadata": {
    "tags": []
   }
  },
  {
   "cell_type": "code",
   "execution_count": null,
   "source": [
    "# Get all a tags\r\n",
    "a_tags = soup.find_all('a')\r\n",
    "for x in a_tags:\r\n",
    "    print(x.getText())"
   ],
   "outputs": [],
   "metadata": {}
  },
  {
   "cell_type": "code",
   "execution_count": null,
   "source": [
    "# Get all b tags\r\n",
    "b_tags = soup.find_all('b')\r\n",
    "for x in b_tags:\r\n",
    "    print(x.get_text())"
   ],
   "outputs": [],
   "metadata": {}
  },
  {
   "cell_type": "code",
   "execution_count": null,
   "source": [
    "# Print tags that are repeated in html dom\r\n",
    "# we can access tags as attributes \r\n",
    "seven_day = soup.find('div',{'id':'seven-day-forecast-body'})\r\n",
    "forcast = seven_day.find_all('li',{'class':'forecast-tombstone'})\r\n",
    "days = [item.find('p',{'class':'period-name'}).get_text() for item in forcast]\r\n",
    "\r\n",
    "# descri = [item.find('p',{'class':'short-desc'}).get_text() for item in forcast]\r\n",
    "descri=[]\r\n",
    "for x in forcast:\r\n",
    "    y = x.find('p',{'class':'short-desc'}).text\r\n",
    "    descri.append(y)\r\n",
    "temp = [item.find('p',{'class':'temp'}).get_text() for item in forcast]\r\n",
    "print(descri)\r\n",
    "    "
   ],
   "outputs": [],
   "metadata": {}
  },
  {
   "cell_type": "code",
   "execution_count": null,
   "source": [
    "\r\n",
    "meta_tag = soup.find_all('meta')\r\n",
    "for mtag in meta_tag:\r\n",
    "    cities = mtag['name']\r\n",
    "    print(cities)"
   ],
   "outputs": [],
   "metadata": {}
  },
  {
   "cell_type": "code",
   "execution_count": null,
   "source": [
    "# Find first Tag, lets get first li tag\r\n",
    "# We can now find another tag or attribute in our results\r\n",
    "# Use try catch block to avoid exception\r\n",
    "li_tag = soup.find('div',{'class':'contentArea'})\r\n",
    "parag = li_tag.find_all('p')\r\n",
    "for x in parag:\r\n",
    "    # print(x)\r\n",
    "    # print(x.text)\r\n",
    "    try:\r\n",
    "        print(x.text.split()[-1])\r\n",
    "    except:\r\n",
    "        print('List was empty')"
   ],
   "outputs": [],
   "metadata": {}
  },
  {
   "cell_type": "code",
   "execution_count": null,
   "source": [
    "# Add to file\r\n",
    "\r\n",
    "with open('data/scrapping.csv','w', encoding='UTF8') as csv_file:\r\n",
    "    csv_writer = csv.writer(csv_file)\r\n",
    "    csv_writer.writerow(['Period', 'Description'])\r\n",
    "    csv_writer.writerow([days,descri])\r\n",
    "\r\n"
   ],
   "outputs": [],
   "metadata": {}
  },
  {
   "cell_type": "code",
   "execution_count": null,
   "source": [
    "weather = pd.DataFrame(\r\n",
    "    {\r\n",
    "    'Period':days,\r\n",
    "    'Description':descri,\r\n",
    "    'Temperature':temp,\r\n",
    "    })\r\n",
    "\r\n",
    "print(weather)"
   ],
   "outputs": [],
   "metadata": {}
  },
  {
   "cell_type": "code",
   "execution_count": null,
   "source": [
    "weather.to_csv('data/scrapping.csv', sep='\\t', encoding='utf-8')"
   ],
   "outputs": [],
   "metadata": {}
  }
 ]
}