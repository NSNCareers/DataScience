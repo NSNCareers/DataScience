{
    "cells": [
        {
            "cell_type": "code",
            "execution_count": 1,
            "source": [
                "import tweepy\r\n",
                "import webbrowser\r\n",
                "import timimport pandas as pde\r\n",
                "\r\n",
                "\r\n",
                "consumer_key = '5iM7WsOnBxmuLwg7N4yFgRGgv'\r\n",
                "consumer_secret ='AprvWHmF9hXWdbEYPMUE3vq4dnJHmRrx7GCJZbi3g4IWPrTFZ3'"
            ],
            "outputs": [],
            "metadata": {}
        },
        {
            "cell_type": "code",
            "execution_count": 2,
            "source": [
                "callback_url= 'oob'\r\n",
                "\r\n",
                "auth= tweepy.OAuthHandler(consumer_key,consumer_secret,callback_url) # Authenticate our User\r\n",
                "redirect_url = auth.get_authorization_url() # Get URL to direct user\r\n",
                "print(redirect_url)"
            ],
            "outputs": [
                {
                    "output_type": "stream",
                    "name": "stdout",
                    "text": [
                        "https://api.twitter.com/oauth/authorize?oauth_token=xwqmLAAAAAABN8cEAAABewNxiEk\n"
                    ]
                }
            ],
            "metadata": {}
        },
        {
            "cell_type": "code",
            "execution_count": 3,
            "source": [
                "webbrowser.open(redirect_url)\r\n",
                "\r\n",
                "user_pint_input = input (\"What's the pin value? \"\n",
                "user_pint_input\n",
                "auth.get_access_token(user_pint_input)\n",
                "api= tweepy.API(auth)\n",
                "me = api.me()\n",
                "print(me.screen_name))\r\n"
            ],
            "outputs": [
                {
                    "output_type": "stream",
                    "name": "stdout",
                    "text": [
                        "nsncareers\n"
                    ]
                }
            ],
            "metadata": {}
        },
        {
            "cell_type": "code",
            "execution_count": 7,
            "metadata": {},
            "outputs": [
                {
                    "output_type": "stream",
                    "name": "stdout",
                    "text": [
                        "[]\n"
                    ]
                }
            ],
            "source": [
                "columns = set() # Sets will have no duplicate instead of lists\n",
                "allowed_types = [str, int] # We only wan\n",
                "tweets_data = []\n",
                "for status in my_timeline:\n",
                "    print(status.author.screen_name)\n",
                "    # print(type(vars(status)))\n",
                "    status_dict = dict(vars(status)) # vars will return a dictionary\n",
                "    keys = status_dict.keys()\n",
                "    single_tweet_data = {\"user\": status.user.screen_name, \"author\": status.author.screen_name}\n",
                "    for k in keys:\n",
                "        try:\n",
                "            v_type = type(status_dict[k])\n",
                "        except:\n",
                "            v_type = None\n",
                "        if v_type != None:\n",
                "            if v_type in allowed_types:\n",
                "                single_tweet_data[k] = status_dict[k]\n",
                "                columns.add(k)\n",
                "    tweets_data.append(single_tweet_data)\n",
                "\n",
                "        \n",
                "header_cols = list(columns)\n",
                "header_cols.append(\"user\")\n",
                "header_cols.append('author')"
            ]
        },
        {
            "cell_type": "code",
            "execution_count": null,
            "metadata": {},
            "outputs": [],
            "source": [
                "df = pd.DataFrame(tweets_data, columns=header_cols)\n",
                "df.head()"
            ]
        },
        {
            "cell_type": "code",
            "execution_count": null,
            "metadata": {},
            "outputs": [],
            "source": [
                "def extract_timeline_as_df(timeline_list):\n",
                "    columns = set()\n",
                "    allowed_types = [str, int]\n",
                "    tweets_data = []\n",
                "    for status in timeline_list:\n",
                "        status_dict = dict(vars(status))\n",
                "        keys = status_dict.keys()\n",
                "        single_tweet_data = {\"user\": status.user.screen_name, \"author\": status.author.screen_name}\n",
                "        for k in keys:\n",
                "            try:\n",
                "                v_type = type(status_dict[k])\n",
                "            except:\n",
                "                v_type = None\n",
                "            if v_type != None:\n",
                "                if v_type in allowed_types:\n",
                "                    single_tweet_data[k] = status_dict[k]\n",
                "                    columns.add(k)\n",
                "        tweets_data.append(single_tweet_data)\n",
                "\n",
                "\n",
                "    header_cols = list(columns)\n",
                "    header_cols.append(\"user\")\n",
                "    header_cols.append('author')\n",
                "    df = pd.DataFrame(tweets_data, columns=header_cols)\n",
                "    return df"
            ]
        },
        {
            "cell_type": "code",
            "execution_count": null,
            "metadata": {},
            "outputs": [],
            "source": [
                "\n",
                "my_timeline = api.home_timeline()"
            ]
        },
        {
            "cell_type": "code",
            "execution_count": null,
            "metadata": {},
            "outputs": [],
            "source": [
                "\n",
                "df2 = extract_timeline_as_df(my_timeline)\n",
                "df2.head()"
            ]
        },
        {
            "cell_type": "code",
            "execution_count": null,
            "metadata": {},
            "outputs": [],
            "source": [
                "user = api.get_user(\"code\")\n",
                "user_timeline = user.timeline()\n",
                "df3 = extract_timeline_as_df(user_timeline)\n",
                "df3.head()"
            ]
        },
        {
            "cell_type": "code",
            "execution_count": null,
            "metadata": {},
            "outputs": [],
            "source": []
        }
    ],
    "metadata": {
        "orig_nbformat": 4,
        "language_info": {
            "name": "python",
            "version": "3.9.6",
            "mimetype": "text/x-python",
            "codemirror_mode": {
                "name": "ipython",
                "version": 3
            },
            "pygments_lexer": "ipython3",
            "nbconvert_exporter": "python",
            "file_extension": ".py"
        },
        "kernelspec": {
            "name": "python3",
            "display_name": "Python 3.9.6 64-bit"
        },
        "interpreter": {
            "hash": "b4474bd39aa979d9034cf80f10e2f11f4a0fc3802d205559d129ca421827463e"
        }
    },
    "nbformat": 4,
    "nbformat_minor": 2
}