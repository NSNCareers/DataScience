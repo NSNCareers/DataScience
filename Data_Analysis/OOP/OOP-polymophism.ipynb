{
 "cells": [
  {
   "cell_type": "code",
   "execution_count": 1,
   "source": [
    "class car:\r\n",
    "    def __init__(self,name):\r\n",
    "        self.name = name\r\n",
    "\r\n",
    "class sedan(car): # Child class\r\n",
    "\r\n",
    "    def accelerate(self):\r\n",
    "        print('120')\r\n",
    "\r\n",
    "class SUV(car): # Child class\r\n",
    "\r\n",
    "    def accelerate(self):\r\n",
    "        print('114')"
   ],
   "outputs": [],
   "metadata": {}
  },
  {
   "cell_type": "code",
   "execution_count": 3,
   "source": [
    "# polymophisim\r\n",
    "# Same function name doing different things\r\n",
    "obj = [sedan('Camry'),SUV('Scorpio')]\r\n",
    "\r\n",
    "for ob in obj:\r\n",
    "    print(ob.name + \":\",end=\"\")\r\n",
    "    ob.accelerate()\r\n",
    "\r\n"
   ],
   "outputs": [
    {
     "output_type": "stream",
     "name": "stdout",
     "text": [
      "Camry:120\n",
      "Scorpio:114\n"
     ]
    }
   ],
   "metadata": {}
  }
 ],
 "metadata": {
  "orig_nbformat": 4,
  "language_info": {
   "name": "python",
   "version": "3.9.6",
   "mimetype": "text/x-python",
   "codemirror_mode": {
    "name": "ipython",
    "version": 3
   },
   "pygments_lexer": "ipython3",
   "nbconvert_exporter": "python",
   "file_extension": ".py"
  },
  "kernelspec": {
   "name": "python3",
   "display_name": "Python 3.9.6 64-bit"
  },
  "interpreter": {
   "hash": "b4474bd39aa979d9034cf80f10e2f11f4a0fc3802d205559d129ca421827463e"
  }
 },
 "nbformat": 4,
 "nbformat_minor": 2
}