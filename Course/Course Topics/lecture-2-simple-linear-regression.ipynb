{
 "metadata": {
  "language_info": {
   "codemirror_mode": {
    "name": "ipython",
    "version": 3
   },
   "file_extension": ".py",
   "mimetype": "text/x-python",
   "name": "python",
   "nbconvert_exporter": "python",
   "pygments_lexer": "ipython3",
   "version": "3.9.6"
  },
  "orig_nbformat": 4,
  "kernelspec": {
   "name": "python3",
   "display_name": "Python 3.9.6 64-bit"
  },
  "interpreter": {
   "hash": "b4474bd39aa979d9034cf80f10e2f11f4a0fc3802d205559d129ca421827463e"
  }
 },
 "nbformat": 4,
 "nbformat_minor": 2,
 "cells": [
  {
   "cell_type": "code",
   "execution_count": null,
   "source": [
    "import numpy as np \r\n",
    "import matplotlib.pyplot as plt\r\n",
    "import pandas as pd\r\n",
    "from sklearn.impute import SimpleImputer\r\n",
    "from sklearn.model_selection import train_test_split\r\n",
    "from sklearn.linear_model import LinearRegression"
   ],
   "outputs": [],
   "metadata": {}
  },
  {
   "cell_type": "markdown",
   "source": [
    "y = a_0 + a_1 * x      ## Linear Equation\r\n",
    "\r\n",
    "y = dependent variable\r\n",
    "x = independent variable\r\n",
    "a_0 = constant, this shows what the dependent variable will be if the independent variable is zero. The point of contact of the line on the x-axis\r\n",
    "a_1 = coefficient or proportion change between x and y as they are not directly proportionate\r\n",
    "\r\n",
    "The cost function helps us to figure out the best possible values for a_0 and a_1 which would provide the best fit line for the data points. Since we want the best values for a_0 and a_1, we convert this search problem into a minimization problem where we would like to minimize the error between the predicted value and the actual value."
   ],
   "metadata": {}
  },
  {
   "cell_type": "markdown",
   "source": [
    "  Steps to follow\r\n",
    "- Create a dataset from data frame\r\n",
    "- Handle missing data\r\n",
    "- Encode categorical data\r\n",
    "- Split data into Training and Test set\r\n",
    "- Feature scaling"
   ],
   "metadata": {}
  },
  {
   "cell_type": "markdown",
   "source": [
    "Dependent and Independent variables"
   ],
   "metadata": {}
  },
  {
   "cell_type": "code",
   "execution_count": null,
   "source": [
    "\r\n",
    "dataset = pd.read_csv('..\\data\\Salary_Data.csv')\r\n",
    "x = dataset.iloc[:, :-1].values # : means the range and -1 means less the last column\r\n",
    "y = dataset.iloc[:,-1].values\r\n",
    "# print(dataset)\r\n",
    "print(x)\r\n",
    "print(y)"
   ],
   "outputs": [],
   "metadata": {}
  },
  {
   "cell_type": "markdown",
   "source": [
    "Replacing missing data"
   ],
   "metadata": {}
  },
  {
   "cell_type": "code",
   "execution_count": null,
   "source": [
    "\r\n",
    "imputer = SimpleImputer(missing_values=np.nan,strategy='mean')\r\n",
    "imputer.fit(x[:, :1]) \r\n",
    "x[:, :1] = imputer.transform(x[:, :1]) \r\n",
    "print(x)"
   ],
   "outputs": [],
   "metadata": {}
  },
  {
   "cell_type": "markdown",
   "source": [
    "Splitting data into Training and Test set"
   ],
   "metadata": {}
  },
  {
   "cell_type": "code",
   "execution_count": null,
   "source": [
    "\r\n",
    "x_train, x_test, y_train, y_test = train_test_split(x,y,test_size=0.2,random_state=1)\r\n",
    "print(x_train)\r\n",
    "#print(x_test)\r\n",
    "print(y_train)\r\n",
    "#print(y_test)"
   ],
   "outputs": [],
   "metadata": {}
  },
  {
   "cell_type": "markdown",
   "source": [
    "Simple linear regression model on Training set"
   ],
   "metadata": {}
  },
  {
   "cell_type": "code",
   "execution_count": null,
   "source": [
    "# In the theory section we said that linear regression model basically finds the best \r\n",
    "# value for the intercept and slope, which results in a line that best fits the data. \r\n",
    "\r\n",
    "regressor = LinearRegression()\r\n",
    "regressor.fit(x_train,y_train)"
   ],
   "outputs": [],
   "metadata": {}
  },
  {
   "cell_type": "code",
   "execution_count": null,
   "source": [
    "# To see the value of the intercept and slop calculated by the linear regression algorithm \r\n",
    "# for our dataset, execute the following code.\r\n",
    "\r\n",
    "const = print(regressor.intercept_)"
   ],
   "outputs": [],
   "metadata": {}
  },
  {
   "cell_type": "code",
   "execution_count": null,
   "source": [
    "# A unit change in the independent variable will impact the dependent vaiab;e\r\n",
    "# This is the slope or x coefficient\r\n",
    "# A unit increase of x will increase y by 9251.93907013\r\n",
    "\r\n",
    "x_coefficient = print(regressor.coef_)"
   ],
   "outputs": [],
   "metadata": {}
  },
  {
   "cell_type": "markdown",
   "source": [
    "Predict test results"
   ],
   "metadata": {}
  },
  {
   "cell_type": "code",
   "execution_count": null,
   "source": [
    "# Now that we have trained our algorithm, it's time to make some predictions. To do so, \r\n",
    "# we will use our test data and see how accurately our algorithm predicts the percentage score\r\n",
    "# We used 0.2 as the test set which implies 20% of 30 rows is 6. Thus the last 6 represent the test set\r\n",
    "\r\n",
    "y_pred = regressor.predict(x_test) # The ground thruth of the last 6 employees\r\n",
    "\r\n",
    "# The y_pred is a numpy array that contains all the predicted values for the input values in the \r\n",
    "# X_test series. To compare the actual output values for X_test with the predicted values, run below command\r\n",
    "\r\n",
    "df = pd.DataFrame({'Actual': y_test, 'Predicted': y_pred})\r\n",
    "df"
   ],
   "outputs": [],
   "metadata": {}
  },
  {
   "cell_type": "code",
   "execution_count": null,
   "source": [
    "# Visualising training test results\r\n",
    "\r\n",
    "plt.scatter(x_train,y_train, color = 'red')\r\n",
    "plt.plot(x_train,regressor.predict(x_train),color = 'blue')\r\n",
    "plt.title('Salary vs Experience (Training set)')\r\n",
    "plt.xlabel('Years of Experience')\r\n",
    "plt.ylabel('Salary')\r\n",
    "plt.show()"
   ],
   "outputs": [],
   "metadata": {}
  },
  {
   "cell_type": "code",
   "execution_count": null,
   "source": [
    "# Visualising training train results\r\n",
    "\r\n",
    "plt.scatter(x_test,y_test, color = 'red')\r\n",
    "plt.plot(x_train,regressor.predict(x_train),color = 'blue')\r\n",
    "plt.title('Salary vs Experience (Test set)')\r\n",
    "plt.xlabel('Years of Experience')\r\n",
    "plt.ylabel('Salary')\r\n",
    "plt.show()"
   ],
   "outputs": [],
   "metadata": {}
  }
 ]
}