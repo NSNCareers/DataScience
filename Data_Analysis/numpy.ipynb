{
 "cells": [
  {
   "cell_type": "code",
   "execution_count": null,
   "source": [
    "import numpy as np"
   ],
   "outputs": [],
   "metadata": {}
  },
  {
   "cell_type": "code",
   "execution_count": null,
   "source": [
    "# Array attributes\r\n",
    "\r\n",
    "arr = np.array([[2,4,5,7],[1,3,6,9]])\r\n",
    "\r\n",
    "# Array Shape\r\n",
    "shape = arr.shape\r\n",
    "dimension = arr.ndim\r\n",
    "size = arr.size\r\n",
    "print(f'Array shape is: {shape}')\r\n",
    "print(f'Array dimension is: {dimension}')\r\n",
    "print(f'Array size is: {size}')\r\n",
    "\r\n",
    "# Access array elements\r\n",
    "# Remember index begins from zero\r\n",
    "element = arr[1][3]\r\n",
    "print(element)"
   ],
   "outputs": [],
   "metadata": {}
  },
  {
   "cell_type": "code",
   "execution_count": null,
   "source": [
    "# Creating a Range of array elements\r\n",
    "# From zero excluding 30 with intervals of 3\r\n",
    "arr_Range = np.arange(0,30,3) \r\n",
    "print(arr_Range)"
   ],
   "outputs": [],
   "metadata": {}
  },
  {
   "cell_type": "code",
   "execution_count": null,
   "source": [
    "# Creating numbers from 0-10 with 20 increaments\r\n",
    "# # Creating numbers from 0-10 with 20 increaments\r\n",
    "# Returns evenly spaced numbers over specified interval\r\n",
    "arr_ls = np.linspace(1,10,20)\r\n",
    "print(arr_ls)"
   ],
   "outputs": [],
   "metadata": {}
  },
  {
   "cell_type": "code",
   "execution_count": null,
   "source": [
    "# Generating random numbers\r\n",
    "# rand generates random numbers between 0-1\r\n",
    "rand = np.random.rand(20)\r\n",
    "print(rand)\r\n",
    "\r\n",
    "# Reshape array into a 3 dimensional array\r\n",
    "my_array = np.random.rand(4,5)\r\n",
    "print(my_array)\r\n",
    "\r\n",
    "# Generating random intergers between a given range\r\n",
    "# Start, end, number of intergers\r\n",
    "rand_int = np.random.randint(11,23,6)\r\n",
    "print(rand_int)"
   ],
   "outputs": [],
   "metadata": {}
  },
  {
   "cell_type": "code",
   "execution_count": null,
   "source": [
    "# Generating array logs\r\n",
    "# Sin, Cosin, tan, sum,\r\n",
    "arr_lg = np.log(arr_ls)\r\n",
    "print(arr_lg)\r\n",
    "\r\n",
    "# Generating Exponent\r\n",
    "arr_exp = np.exp(arr_ls)\r\n",
    "print(arr_exp)"
   ],
   "outputs": [],
   "metadata": {}
  },
  {
   "cell_type": "code",
   "execution_count": null,
   "source": [
    "# Array axis mean, max, std, var and median\r\n",
    "# axis = 1 implies rows and 0 implies columns\r\n",
    "sum_Row = np.sum(my_array,axis = 1)\r\n",
    "sum_Column = np.sum(my_array,axis = 0)\r\n",
    "\r\n",
    "print(sum_Row)\r\n",
    "print(sum_Column)\r\n",
    "\r\n",
    "print('*********Man and Max*********')\r\n",
    "\r\n",
    "mean_Row = np.mean(my_array,axis = 1)\r\n",
    "max_Column = np.max(my_array,axis = 0)\r\n",
    "max_arr = np.max(my_array)\r\n",
    "\r\n",
    "print(mean_Row)\r\n",
    "print(max_Column)\r\n",
    "print(max_arr)"
   ],
   "outputs": [],
   "metadata": {}
  },
  {
   "cell_type": "code",
   "execution_count": null,
   "source": [
    "# Slicing arrays\r\n",
    "\r\n",
    "# slice1 = my_array[1] # Prints just array at index 1\r\n",
    "# slice1 = my_array[1:] # Prints from index 1 till end\r\n",
    "# slice1 = my_array[1:3] # Prints from index 1-3 excluding 3\r\n",
    "# slice1 = my_array[1:,3] # Get column 3 from array index 1 till the end\r\n",
    "# slice1 = my_array[0:,3:-1] # Get column 3 excluding last column\r\n",
    "# slice1 = my_array[0:,2:-1] # Get column 3 excluding last column\r\n",
    "slice1 = my_array[0:,-1] # Get last column\r\n",
    "\r\n",
    "print(slice1)"
   ],
   "outputs": [],
   "metadata": {}
  },
  {
   "cell_type": "code",
   "execution_count": null,
   "source": [
    "# Transpose\r\n",
    "# Reversis the x axis\r\n",
    "arr_t = my_array.T\r\n",
    "print(arr_t)"
   ],
   "outputs": [],
   "metadata": {}
  },
  {
   "cell_type": "code",
   "execution_count": null,
   "source": [
    "# Flatenning\r\n",
    "# Flatterns into a single array\r\n",
    "arr_f = my_array.flatten()\r\n",
    "print(arr_f)"
   ],
   "outputs": [],
   "metadata": {}
  },
  {
   "cell_type": "code",
   "execution_count": null,
   "source": [
    "# Array Concartenation\r\n",
    "\r\n",
    "arr_con = np.array([2,4,6,8,9])\r\n",
    "\r\n",
    "# Append\r\n",
    "arr_con = np.append(arr_con,43)\r\n",
    "\r\n",
    "# Insert\r\n",
    "arr_con = np.insert(arr_con,2,[11,23,67])\r\n",
    "\r\n",
    "arr_con = np.delete(arr_con,[4,8])\r\n",
    "# print(arr_con)\r\n",
    "\r\n",
    "# Concart two arrays\r\n",
    "arr1 = np.array([[2,4,6,8],[10,12,14,16]])\r\n",
    "arr2 = np.array([[1,3,5,7],[9,11,13,15]])\r\n",
    "concart = np.concatenate((arr1,arr2), axis=1) # 1=rows and 0=columns\r\n",
    "print(concart)"
   ],
   "outputs": [],
   "metadata": {}
  },
  {
   "cell_type": "code",
   "execution_count": 74,
   "source": [
    "# Unique Occurence\r\n",
    "\r\n",
    "arr_u = np.array([1,2,3,4,2,3,4,5,6,7,8,9,8,6,5,44,55,3,4,5,66,])\r\n",
    "\r\n",
    "arr_uniq = np.unique(arr_u)\r\n",
    "print(arr_uniq)\r\n",
    "\r\n",
    "index = np.unique(arr_u, return_index=5)\r\n",
    "inverse = np.unique(arr_u, return_inverse=True)\r\n",
    "x,y = np.unique(arr_u, return_counts=True)\r\n",
    "print(index)\r\n",
    "print(inverse)\r\n",
    "print(x)\r\n",
    "print(y)"
   ],
   "outputs": [
    {
     "output_type": "stream",
     "name": "stdout",
     "text": [
      "[ 1  2  3  4  5  6  7  8  9 44 55 66]\n",
      "[ 1  2  3  4  5  6  7  8  9 44 55 66]\n",
      "[1 2 3 3 3 2 1 2 1 1 1 1]\n"
     ]
    }
   ],
   "metadata": {}
  }
 ],
 "metadata": {
  "orig_nbformat": 4,
  "language_info": {
   "name": "python",
   "version": "3.9.6",
   "mimetype": "text/x-python",
   "codemirror_mode": {
    "name": "ipython",
    "version": 3
   },
   "pygments_lexer": "ipython3",
   "nbconvert_exporter": "python",
   "file_extension": ".py"
  },
  "kernelspec": {
   "name": "python3",
   "display_name": "Python 3.9.6 64-bit"
  },
  "interpreter": {
   "hash": "b4474bd39aa979d9034cf80f10e2f11f4a0fc3802d205559d129ca421827463e"
  }
 },
 "nbformat": 4,
 "nbformat_minor": 2
}