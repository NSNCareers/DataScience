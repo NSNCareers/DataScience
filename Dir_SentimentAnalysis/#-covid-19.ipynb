{
    "cells": [
        {
            "cell_type": "code",
            "execution_count": null,
            "source": [
                "import tweepy\r\n",
                "import webbrowser\r\n",
                "from tweepy import Stream\r\n",
                "from tweepy.streaming import StreamListener\r\n",
                "from tweepy import Cursor\r\n",
                "from tweepy import API\r\n",
                "import pandas as pd\r\n",
                "import numpy as np\r\n",
                "import re\r\n",
                "from textblob import Word, TextBlob\r\n",
                "import nltk\r\n",
                "import matplotlib.pyplot as plt\r\n",
                "\r\n",
                "# API_key = zQk7acKmTbFnJqlkA6p0C7VXJ\r\n",
                "# API_secret_Key = zpDNW5CQH52V6Bb2BKCjKDVogi8iDeND9S6x23fWUtympUxr0c\r\n",
                "# Bearer_Token = AAAAAAAAAAAAAAAAAAAAAM%2BCSQEAAAAAQjlVDeu7C7%2BGLoOslqEpR7MawHg%3DEteDy5j1NaGD2JcZK7FMo6iN7hmNyLIA1ZMmHOvEF4VPnnq6ls"
            ],
            "outputs": [],
            "metadata": {}
        },
        {
            "cell_type": "code",
            "execution_count": null,
            "source": [
                "# We shall be analysing tweets with respect to presidential debate\r\n",
                "\r\n",
                "consumer_key = '5iM7WsOnBxmuLwg7N4yFgRGgv'\r\n",
                "consumer_secret ='AprvWHmF9hXWdbEYPMUE3vq4dnJHmRrx7GCJZbi3g4IWPrTFZ3'\r\n",
                "callback_url= 'oob'\r\n",
                "auth= tweepy.OAuthHandler(consumer_key,consumer_secret,callback_url) # Authenticate our User\r\n",
                "redirect_url = auth.get_authorization_url() # Get URL to direct user\r\n",
                "# print(redirect_url)\r\n",
                "webbrowser.open(redirect_url)\r\n",
                "user_pint_input = input (\"What's the pin value? \")\r\n",
                "user_pint_input\r\n",
                "auth.get_access_token(user_pint_input)\r\n",
                "api= tweepy.API(auth, wait_on_rate_limit=True)\r\n",
                "me = api.me()"
            ],
            "outputs": [],
            "metadata": {}
        },
        {
            "cell_type": "code",
            "execution_count": null,
            "source": [
                "# Setting up tweeter handler\r\n",
                "\r\n",
                "hashtag = '#covid-19'\r\n",
                "query = tweepy.Cursor(api.search, q=hashtag,lang='en').items(300)  # The search method will help us search\r\n",
                "# print(dir(query)) \r\n",
                "tweets = [ {'Tweets':tweet.text, 'Timestamp':tweet.created_at} for tweet in query]\r\n",
                "print(tweets)"
            ],
            "outputs": [],
            "metadata": {}
        },
        {
            "cell_type": "code",
            "execution_count": null,
            "source": [
                "# Import tweets into a data frame\r\n",
                "# convert dictionary to list\r\n",
                "tweets = list(tweets) \r\n",
                "df = pd.DataFrame(tweets, columns=['Tweets','Timestamp'])\r\n",
                "print(df)"
            ],
            "outputs": [],
            "metadata": {}
        },
        {
            "cell_type": "code",
            "execution_count": null,
            "source": [
                "\r\n",
                "# Cleaning tweets\r\n",
                "\r\n",
                "def clean_text(raw_text):\r\n",
                "    raw_text = re.sub(r'@[A-Za-z0-9]+','',raw_text)\r\n",
                "    raw_text = re.sub(r'#','',raw_text)\r\n",
                "    raw_text = re.sub(r'RT[\\s]+','',raw_text)\r\n",
                "    raw_text = re.sub(r'https?:\\/\\/\\S+','',raw_text)\r\n",
                "    raw_text = re.sub(r':','',raw_text)\r\n",
                "    raw_text = re.sub(r'_','',raw_text)\r\n",
                "    raw_text = re.sub(r'\\n\\n','',raw_text)\r\n",
                "    raw_text = re.sub(r'--&','',raw_text)\r\n",
                "    raw_text = re.sub(r'\\n','',raw_text)\r\n",
                "    return raw_text\r\n",
                "\r\n",
                "df['Tweets'] = df['Tweets'].apply(clean_text)\r\n",
                "\r\n",
                "print(df)\r\n",
                "#print(df.shape)"
            ],
            "outputs": [],
            "metadata": {}
        },
        {
            "cell_type": "code",
            "execution_count": null,
            "source": [
                "# Remove emorjis\r\n",
                "def removeEmojify(text):\r\n",
                "    regrex_pattern = re.compile(pattern = \"[\"\r\n",
                "        u\"\\U0001F600-\\U0001F64F\"  # emoticons\r\n",
                "        u\"\\U0001F300-\\U0001F5FF\"  # symbols & pictographs\r\n",
                "        u\"\\U0001F680-\\U0001F6FF\"  # transport & map symbols\r\n",
                "        u\"\\U0001F1E0-\\U0001F1FF\"  # flags (iOS)\r\n",
                "                           \"]+\", flags = re.UNICODE)\r\n",
                "    return regrex_pattern.sub(r'',text)\r\n",
                "\r\n",
                "df['Tweets'] = df['Tweets'].apply(removeEmojify)\r\n",
                "\r\n",
                "print(df)"
            ],
            "outputs": [],
            "metadata": {}
        },
        {
            "cell_type": "code",
            "execution_count": null,
            "source": [
                "\r\n",
                "covid_refs = ['COVID','covid','COVID-19','covid-19','COVID_19','covid_19','COVID19','covid19','COVID 19','covid 19']\r\n",
                "\r\n",
                "def identify_subject(tweet,refs):\r\n",
                "    flag = 0\r\n",
                "    for ref in refs:\r\n",
                "        if tweet.find(ref) != -1:\r\n",
                "            flag = 1\r\n",
                "    return flag\r\n",
                "\r\n",
                "df['Covid'] = df['Tweets'].apply(lambda x: identify_subject(x,covid_refs) )\r\n",
                "\r\n",
                "print(df)"
            ],
            "outputs": [],
            "metadata": {}
        },
        {
            "cell_type": "code",
            "execution_count": null,
            "source": [
                "# Subjectivity and the polarity\r\n",
                "\r\n",
                "# How much a piece of text is based on emotion or how objective or subjective it is ranging from 0 to 1\r\n",
                "def getSubjectivity(text):\r\n",
                "    return TextBlob(text).sentiment.subjectivity\r\n",
                "\r\n",
                "# How positive or negative something is ranging from -1 to 1\r\n",
                "def getPolarity(text): \r\n",
                "    return TextBlob(text).sentiment.polarity\r\n",
                "\r\n",
                "df['Subjectivity'] = df['Tweets'].apply(getSubjectivity)\r\n",
                "df['Polarity'] = df['Tweets'].apply(getPolarity)\r\n",
                "\r\n",
                "print(df)"
            ],
            "outputs": [],
            "metadata": {}
        },
        {
            "cell_type": "code",
            "execution_count": null,
            "source": [
                "df[df['Covid']==1][['Covid','Polarity','Subjectivity']].groupby('Covid').agg([np.mean,np.max,np.min,np.median])"
            ],
            "outputs": [],
            "metadata": {}
        },
        {
            "cell_type": "code",
            "execution_count": null,
            "source": [
                "# Visualize\r\n",
                "\r\n",
                "covid_19 = df[df['Covid']==1][['Timestamp','Polarity']]\r\n",
                "covid_19 = covid_19.sort_values(by='Timestamp', ascending=True)\r\n",
                "covid_19['Ma Polarity'] = covid_19.rolling(10, min_periods=3).mean()\r\n",
                "\r\n",
                "print(covid_19)"
            ],
            "outputs": [],
            "metadata": {}
        },
        {
            "cell_type": "code",
            "execution_count": 27,
            "source": [
                "\r\n",
                "fig, axes = plt.subplots(2,figsize=(13, 10))\r\n",
                "\r\n",
                "axes[0].plot(covid_19['Timestamp'], covid_19['Ma Polarity'])\r\n",
                "axes[0].set_title(\"\\n\".join([\"covid_19 Polarity\"]))\r\n",
                "\r\n",
                "\r\n",
                "fig.suptitle(\"\\n\".join([\"Covid_19 Analysis\"]), y=0.98)\r\n",
                "plt.show()"
            ],
            "outputs": [
                {
                    "output_type": "display_data",
                    "data": {
                        "text/plain": [
                            "<Figure size 936x720 with 2 Axes>"
                        ],
                        "image/png": "[encoded data removed]"
                    },
                    "metadata": {
                        "needs_background": "light"
                    }
                }
            ],
            "metadata": {}
        },
        {
            "cell_type": "code",
            "execution_count": null,
            "source": [
                "\r\n",
                "def getAnalysys(score):\r\n",
                "        if score<0:\r\n",
                "            return 'Negative'\r\n",
                "        else:\r\n",
                "            return 'Positive'\r\n",
                "\r\n",
                "df['Analysis'] = df['Polarity'].apply(getAnalysys)\r\n",
                "\r\n",
                "print(df)"
            ],
            "outputs": [],
            "metadata": {}
        },
        {
            "cell_type": "code",
            "execution_count": null,
            "source": [
                "\r\n",
                " # print all positive tweets\r\n",
                "print('*****Positive Tweets*****')\r\n",
                "j = 1\r\n",
                "sortedDF = df.sort_values(by=['Polarity'])\r\n",
                "for i in range(0,sortedDF.shape[0]):\r\n",
                "    if (sortedDF['Analysis'][i]=='Positive'):\r\n",
                "            print(str(j) + ')'+ sortedDF['Tweets'][i])\r\n",
                "            #print()\r\n",
                "            j +=1\r\n",
                "\r\n",
                "\r\n",
                "# print all negative tweets\r\n",
                "print('*****Negative Tweets*****')\r\n",
                "j = 1\r\n",
                "sortedDF = df.sort_values(by=['Polarity'], ascending='False')\r\n",
                "for i in range(0,sortedDF.shape[0]):\r\n",
                "     if (sortedDF['Analysis'][i]=='Negative'):\r\n",
                "            print(str(j) + ')'+ sortedDF['Tweets'][i])\r\n",
                "            #print()\r\n",
                "            j +=1\r\n",
                "            "
            ],
            "outputs": [],
            "metadata": {}
        },
        {
            "cell_type": "code",
            "execution_count": null,
            "source": [
                "\r\n",
                " # Get the percentage of positive tweets\r\n",
                "ptweets = df[df.Analysis == 'Positive']\r\n",
                "ptweets = ptweets['Tweets']\r\n",
                "percent = round((ptweets.shape[0] / df.shape[0]) * 100, 1)\r\n",
                "print(percent)\r\n",
                "\r\n",
                "\r\n",
                "# Get the percentage of negative tweets\r\n",
                "ntweets = df[df.Analysis == 'Negative']\r\n",
                "ntweets = ntweets['Tweets']\r\n",
                "percent = round((ntweets.shape[0] / df.shape[0]) * 100, 1)\r\n",
                "print(percent)"
            ],
            "outputs": [],
            "metadata": {}
        }
    ],
    "metadata": {
        "orig_nbformat": 4,
        "language_info": {
            "name": "python",
            "version": "3.9.6",
            "mimetype": "text/x-python",
            "codemirror_mode": {
                "name": "ipython",
                "version": 3
            },
            "pygments_lexer": "ipython3",
            "nbconvert_exporter": "python",
            "file_extension": ".py"
        },
        "kernelspec": {
            "name": "python3",
            "display_name": "Python 3.9.6 64-bit"
        },
        "interpreter": {
            "hash": "b4474bd39aa979d9034cf80f10e2f11f4a0fc3802d205559d129ca421827463e"
        }
    },
    "nbformat": 4,
    "nbformat_minor": 2
}