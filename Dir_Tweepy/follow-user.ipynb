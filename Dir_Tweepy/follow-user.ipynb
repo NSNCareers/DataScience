{
    "cells": [
        {
            "cell_type": "code",
            "execution_count": 1,
            "source": [
                "import tweepy\r\n",
                "import webbrowser\r\n",
                "import timimport pandas as pde\r\n",
                "\r\n",
                "\r\n",
                "consumer_key = '5iM7WsOnBxmuLwg7N4yFgRGgv'\r\n",
                "consumer_secret ='AprvWHmF9hXWdbEYPMUE3vq4dnJHmRrx7GCJZbi3g4IWPrTFZ3'"
            ],
            "outputs": [],
            "metadata": {}
        },
        {
            "cell_type": "code",
            "execution_count": 2,
            "source": [
                "callback_url= 'oob'\r\n",
                "\r\n",
                "auth= tweepy.OAuthHandler(consumer_key,consumer_secret,callback_url) # Authenticate our User\r\n",
                "redirect_url = auth.get_authorization_url() # Get URL to direct user\r\n",
                "print(redirect_url)"
            ],
            "outputs": [
                {
                    "output_type": "stream",
                    "name": "stdout",
                    "text": [
                        "https://api.twitter.com/oauth/authorize?oauth_token=xwqmLAAAAAABN8cEAAABewNxiEk\n"
                    ]
                }
            ],
            "metadata": {}
        },
        {
            "cell_type": "code",
            "execution_count": 3,
            "source": [
                "webbrowser.open(redirect_url)\r\n",
                "\r\n",
                "user_pint_input = input (\"What's the pin value? \"\n",
                "user_pint_input\n",
                "auth.get_access_token(user_pint_input)\n",
                "api= tweepy.API(auth)\n",
                "me = api.me()\n",
                "print(me.screen_name))\r\n"
            ],
            "outputs": [
                {
                    "output_type": "stream",
                    "name": "stdout",
                    "text": [
                        "nsncareers\n"
                    ]
                }
            ],
            "metadata": {}
        },
        {
            "cell_type": "code",
            "execution_count": null,
            "metadata": {},
            "outputs": [],
            "source": [
                "user = api.get_user(\"code\")"
            ]
        },
        {
            "cell_type": "code",
            "execution_count": null,
            "metadata": {},
            "outputs": [],
            "source": [
                "\n",
                "print(user.followers_count, user.friends_count)"
            ]
        },
        {
            "cell_type": "code",
            "execution_count": null,
            "metadata": {},
            "outputs": [],
            "source": [
                "my_new_friends = []\n",
                "user_friends = user.friends()\n",
                "for friend in user_friends:\n",
                "    if friend.followers_count > 300 and friend.friends_count < 300:\n",
                "        # print(friend.screen_name)\n",
                "        my_new_friends.append(friend.screen_name)\n",
                "        relationship_ = api.create_friendship(friend.screen_name)"
            ]
        },
        {
            "cell_type": "code",
            "execution_count": null,
            "metadata": {},
            "outputs": [],
            "source": [
                "to_remove = my_new_friends[:-1]"
            ]
        },
        {
            "cell_type": "code",
            "execution_count": null,
            "metadata": {},
            "outputs": [],
            "source": [
                "\n",
                "for username in to_remove:\n",
                "    api.destroy_friendship(username)"
            ]
        }
    ],
    "metadata": {
        "orig_nbformat": 4,
        "language_info": {
            "name": "python",
            "version": "3.9.6",
            "mimetype": "text/x-python",
            "codemirror_mode": {
                "name": "ipython",
                "version": 3
            },
            "pygments_lexer": "ipython3",
            "nbconvert_exporter": "python",
            "file_extension": ".py"
        },
        "kernelspec": {
            "name": "python3",
            "display_name": "Python 3.9.6 64-bit"
        },
        "interpreter": {
            "hash": "b4474bd39aa979d9034cf80f10e2f11f4a0fc3802d205559d129ca421827463e"
        }
    },
    "nbformat": 4,
    "nbformat_minor": 2
}