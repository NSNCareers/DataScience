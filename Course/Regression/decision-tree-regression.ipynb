{
 "cells": [
  {
   "cell_type": "code",
   "execution_count": 1,
   "source": [
    "# Decision Tree Regression\r\n",
    "\r\n",
    "import numpy as np \r\n",
    "import matplotlib.pyplot as plt\r\n",
    "import pandas as pd\r\n",
    "\r\n",
    "\r\n",
    "# Impoting the data set\r\n",
    "dataset = pd.read_csv('data\\Position_Salaries.csv')\r\n",
    "X = dataset.iloc[:, 1:-1].values\r\n",
    "Y = dataset.iloc[:,-1].values"
   ],
   "outputs": [],
   "metadata": {}
  },
  {
   "cell_type": "code",
   "execution_count": 6,
   "source": [
    "# Training model\r\n",
    "# This will train ur decision tree regressor to undertsnad the correlation \r\n",
    "# between the dependent and independent variables\r\n",
    "from sklearn.tree import DecisionTreeRegressor\r\n",
    "\r\n",
    "regressor = DecisionTreeRegressor(random_state=0)\r\n",
    "regressor.fit(X,Y)"
   ],
   "outputs": [
    {
     "output_type": "execute_result",
     "data": {
      "text/plain": [
       "DecisionTreeRegressor(random_state=0)"
      ]
     },
     "metadata": {},
     "execution_count": 6
    }
   ],
   "metadata": {}
  },
  {
   "cell_type": "code",
   "execution_count": 8,
   "source": [
    "# predicting new result\r\n",
    "\r\n",
    "regressor.predict([[6.5]])"
   ],
   "outputs": [
    {
     "output_type": "execute_result",
     "data": {
      "text/plain": [
       "array([150000.])"
      ]
     },
     "metadata": {},
     "execution_count": 8
    }
   ],
   "metadata": {}
  },
  {
   "cell_type": "code",
   "execution_count": null,
   "source": [
    "# Visualising Results\r\n",
    "\r\n",
    "x_grid = np.arange(min(X),max(X),0.1)\r\n",
    "x_grid = x_grid.reshape((len(x_grid),1))\r\n",
    "plt.scatter(X,Y, color = 'red')\r\n",
    "plt.plot(x_grid,regressor.predict(x_grid),color = 'blue')\r\n",
    "plt.title(' (Decision Tree Regression)')\r\n",
    "plt.xlabel('Position Level')\r\n",
    "plt.ylabel('Salary')\r\n",
    "plt.show()\r\n"
   ],
   "outputs": [],
   "metadata": {}
  }
 ],
 "metadata": {
  "orig_nbformat": 4,
  "language_info": {
   "name": "python",
   "version": "3.9.6",
   "mimetype": "text/x-python",
   "codemirror_mode": {
    "name": "ipython",
    "version": 3
   },
   "pygments_lexer": "ipython3",
   "nbconvert_exporter": "python",
   "file_extension": ".py"
  },
  "kernelspec": {
   "name": "python3",
   "display_name": "Python 3.9.6 64-bit"
  },
  "interpreter": {
   "hash": "b4474bd39aa979d9034cf80f10e2f11f4a0fc3802d205559d129ca421827463e"
  }
 },
 "nbformat": 4,
 "nbformat_minor": 2
}