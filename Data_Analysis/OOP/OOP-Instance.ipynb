{
 "cells": [
  {
   "cell_type": "code",
   "execution_count": null,
   "source": [
    "\r\n",
    "class car:\r\n",
    "\r\n",
    "    def __init__(self,year,speed):\r\n",
    "        self.year = year\r\n",
    "        self.speed = speed\r\n",
    "\r\n",
    "    def getSpeed(self):\r\n",
    "        print(f'Max speed is: {self.speed}')\r\n",
    "    \r\n",
    "    def getYear(self):\r\n",
    "        print(f'Year of manufacture is: {self.year}')"
   ],
   "outputs": [],
   "metadata": {}
  },
  {
   "cell_type": "code",
   "execution_count": null,
   "source": [
    "\r\n",
    "BMW = car(2021,230)\r\n",
    "FORD = car(1990,120)"
   ],
   "outputs": [],
   "metadata": {}
  },
  {
   "cell_type": "code",
   "execution_count": null,
   "source": [
    "# BMW\r\n",
    "car.getSpeed(BMW)\r\n",
    "car.getYear(BMW)\r\n",
    "BMW.getSpeed()\r\n",
    "BMW.getYear()"
   ],
   "outputs": [],
   "metadata": {}
  },
  {
   "cell_type": "code",
   "execution_count": null,
   "source": [
    "# Ford\r\n",
    "car.getSpeed(FORD)\r\n",
    "car.getYear(FORD)\r\n",
    "FORD.getSpeed()\r\n",
    "FORD.getYear()"
   ],
   "outputs": [],
   "metadata": {}
  }
 ],
 "metadata": {
  "orig_nbformat": 4,
  "language_info": {
   "name": "python",
   "version": "3.9.6",
   "mimetype": "text/x-python",
   "codemirror_mode": {
    "name": "ipython",
    "version": 3
   },
   "pygments_lexer": "ipython3",
   "nbconvert_exporter": "python",
   "file_extension": ".py"
  },
  "kernelspec": {
   "name": "python3",
   "display_name": "Python 3.9.6 64-bit"
  },
  "interpreter": {
   "hash": "b4474bd39aa979d9034cf80f10e2f11f4a0fc3802d205559d129ca421827463e"
  }
 },
 "nbformat": 4,
 "nbformat_minor": 2
}