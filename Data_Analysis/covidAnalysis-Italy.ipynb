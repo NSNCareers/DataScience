{
    "cells": [
        {
            "cell_type": "code",
            "execution_count": null,
            "source": [
                "from urllib.request import urlretrieve\r\n",
                "import pandas as pd"
            ],
            "outputs": [],
            "metadata": {}
        },
        {
            "cell_type": "code",
            "execution_count": null,
            "source": [
                "italy_covid_url = 'https://gist.githubusercontent.com/aakashns/f6a004fa20c84fec53262f9a8bfee775/raw/f309558b1cf5103424cef58e2ecb8704dcd4d74c/italy-covid-daywise.csv'\r\n",
                "\r\n",
                "covid_df = pd.read_csv(italy_covid_url)\r\n",
                "covid_df = pd.DataFrame(covid_df)\r\n",
                "print(covid_df)"
            ],
            "outputs": [],
            "metadata": {}
        },
        {
            "cell_type": "code",
            "execution_count": null,
            "source": [
                "# prints out top five rows by default\r\n",
                "covid_df.head(10)"
            ],
            "outputs": [],
            "metadata": {}
        },
        {
            "cell_type": "code",
            "execution_count": null,
            "source": [
                "# prints out last five rows by default\r\n",
                "covid_df.tail(10)"
            ],
            "outputs": [],
            "metadata": {}
        },
        {
            "cell_type": "code",
            "execution_count": null,
            "source": [
                "# Object is a generic data type when panda can not figure out the data type specified\r\n",
                "covid_df.info()\r\n",
                "\r\n",
                "covid_df.describe()\r\n",
                "\r\n",
                "covid_df.columns\r\n",
                "\r\n",
                "covid_df.shape\r\n"
            ],
            "outputs": [],
            "metadata": {}
        },
        {
            "cell_type": "code",
            "execution_count": null,
            "source": [
                "# Retrieve data from dataframe\r\n",
                "# Internal representation of a data frame\r\n",
                "# A dictionary or list\r\n",
                "\r\n",
                "# Pandas format is simliar to this\r\n",
                "covid_data_dict = {\r\n",
                "    'date':       ['2020-08-30', '2020-08-31', '2020-09-01', '2020-09-02', '2020-09-03'],\r\n",
                "    'new_cases':  [1444, 1365, 996, 975, 1326],\r\n",
                "    'new_deaths': [1, 4, 6, 8, 6],\r\n",
                "    'new_tests': [53541, 42583, 54395, None, None]\r\n",
                "}\r\n",
                "\r\n",
                "print(covid_data_dict)"
            ],
            "outputs": [],
            "metadata": {}
        },
        {
            "cell_type": "code",
            "execution_count": null,
            "source": [
                "# Access data based on row range\r\n",
                "# To access a specific row of data, Pandas provides the `.loc` method.\r\n",
                "covid_df.loc[1:2]\r\n",
                "# Access columns based on labels\r\n",
                "# Further, you can also pass a list of columns within the indexing notation `[]` \r\n",
                "# to access a subset of the data frame with just the given columns.\r\n",
                "covid_df[['new_cases','new_deaths']]\r\n",
                "# Access at specified index\r\n",
                "covid_df.at[200, 'new_tests']"
            ],
            "outputs": [],
            "metadata": {}
        },
        {
            "cell_type": "code",
            "execution_count": null,
            "source": [
                "# What are the total number of reported cases and deaths related to Covid-19 in Italy?\r\n",
                "total_cases = covid_df.new_cases.sum()\r\n",
                "total_deaths = covid_df.new_deaths.sum()\r\n",
                "print(total_cases)\r\n",
                "print(total_deaths)"
            ],
            "outputs": [],
            "metadata": {}
        },
        {
            "cell_type": "code",
            "execution_count": null,
            "source": [
                "# What is the overall death rate (ratio of reported deaths to reported cases)?\r\n",
                "death_rate = covid_df.new_deaths.sum() / covid_df.new_cases.sum()\r\n",
                "print(death_rate)"
            ],
            "outputs": [],
            "metadata": {}
        },
        {
            "cell_type": "code",
            "execution_count": null,
            "source": [
                "# What is the overall number of tests conducted? A total of 935310 tests were conducted before daily \r\n",
                "# test numbers were reported.\r\n",
                "\r\n",
                "initial_tests = 935310\r\n",
                "total_tests = initial_tests + covid_df.new_tests.sum()\r\n",
                "print(total_tests)"
            ],
            "outputs": [],
            "metadata": {}
        },
        {
            "cell_type": "code",
            "execution_count": null,
            "source": [
                "# What fraction of tests returned a positive result?\r\n",
                "positive_rate = total_cases / total_tests\r\n",
                "print('{:.2f}% of tests in Italy led to a positive diagnosis.'.format(positive_rate*100))"
            ],
            "outputs": [],
            "metadata": {}
        },
        {
            "cell_type": "code",
            "execution_count": null,
            "source": [
                "# Querying and sorting rows\r\n",
                "high_new_cases = covid_df.new_cases > 1000\r\n",
                "# The boolean expression returns a series containing `True` and `False` boolean values. \r\n",
                "# You can use this series to select a subset of rows from the original dataframe, corresponding to the \r\n",
                "# `True` values in the series.\r\n",
                "covid_df[high_new_cases]\r\n",
                "\r\n",
                "# We can write this succinctly on a single line by passing the boolean expression as an index to the data frame.\r\n",
                "high_cases_df = covid_df[covid_df.new_cases > 1000]\r\n",
                "high_cases_df"
            ],
            "outputs": [],
            "metadata": {}
        },
        {
            "cell_type": "code",
            "execution_count": null,
            "source": [
                "locate = covid_df.loc[10:50:2] # For locating rows. start:end:increament\r\n",
                "locate"
            ],
            "outputs": [],
            "metadata": {}
        },
        {
            "cell_type": "code",
            "execution_count": null,
            "source": [
                "covid_df.loc[10:20,['date','new_cases']] # This will print out rows and columns"
            ],
            "outputs": [],
            "metadata": {}
        },
        {
            "cell_type": "code",
            "execution_count": null,
            "source": [
                "covid_df.iloc[2:7,3:5] # First set of argument is for rows and second is for columns"
            ],
            "outputs": [],
            "metadata": {}
        },
        {
            "cell_type": "code",
            "execution_count": null,
            "source": [
                "covid_df.query('date == [\"2020-08-21\",\"2020-08-23\",\"2020-08-24\",\"2020-08-25\",\"2020-08-26\",\"2020-08-28\"] & (new_cases>2)')"
            ],
            "outputs": [],
            "metadata": {}
        },
        {
            "cell_type": "code",
            "execution_count": null,
            "source": [
                "# Compare two sequences\r\n",
                "newDeaths = covid_df['new_deaths']\r\n",
                "\r\n",
                "covid_df['new_cases'].isin(newDeaths)"
            ],
            "outputs": [],
            "metadata": {}
        },
        {
            "cell_type": "code",
            "execution_count": null,
            "source": [
                "# Let's try to determine the days when the ratio \r\n",
                "# of cases reported to tests conducted is higher than the overall positive_rate\r\n",
                "high_ratio_df = covid_df[covid_df.new_cases / covid_df.new_tests > positive_rate]\r\n",
                "print(high_ratio_df)"
            ],
            "outputs": [],
            "metadata": {}
        },
        {
            "cell_type": "code",
            "execution_count": null,
            "source": [
                "# We can use this series to add a new column to the data frame.\r\n",
                "covid_df['positive_rate'] = covid_df.new_cases / covid_df.new_tests\r\n",
                "covid_df"
            ],
            "outputs": [],
            "metadata": {}
        },
        {
            "cell_type": "code",
            "execution_count": null,
            "source": [
                "# For now, let's remove the positive_rate column using the drop method.\r\n",
                "covid_df.drop(columns=['positive_rate'], inplace=True)\r\n",
                "covid_df"
            ],
            "outputs": [],
            "metadata": {}
        },
        {
            "cell_type": "code",
            "execution_count": null,
            "source": [
                "# Sorting rows using column values\r\n",
                "# The rows can also be sorted by a specific column using .sort_values. Let's sort to identify the days with \r\n",
                "# the highest number of cases, then chain it with the head method to list just the first ten results.\r\n",
                "\r\n",
                "covid_df.sort_values('new_cases', ascending=False).head(10)"
            ],
            "outputs": [],
            "metadata": {}
        },
        {
            "cell_type": "code",
            "execution_count": null,
            "source": [
                "# Working with dates\r\n",
                "covid_df.date\r\n",
                "covid_df['date'] = pd.to_datetime(covid_df.date)\r\n",
                "covid_df['date']"
            ],
            "outputs": [],
            "metadata": {}
        },
        {
            "cell_type": "code",
            "execution_count": null,
            "source": [
                "# You can see that it now has the datatype datetime64. We can now extract different parts of the data into \r\n",
                "# separate columns, using the DatetimeIndex \r\n",
                "\r\n",
                "covid_df['year'] = pd.DatetimeIndex(covid_df.date).year\r\n",
                "covid_df['month'] = pd.DatetimeIndex(covid_df.date).month\r\n",
                "covid_df['day'] = pd.DatetimeIndex(covid_df.date).day\r\n",
                "covid_df['weekday'] = pd.DatetimeIndex(covid_df.date).weekday\r\n",
                "covid_df"
            ],
            "outputs": [],
            "metadata": {}
        },
        {
            "cell_type": "code",
            "execution_count": null,
            "source": [
                "# Let's check the overall metrics for May. We can query the rows for May, choose a subset of columns, and use the \r\n",
                "# `sum` method to aggregate each selected column's values.\r\n",
                "\r\n",
                "# Query the rows for May\r\n",
                "covid_df_may = covid_df[covid_df.month == 5]\r\n",
                "\r\n",
                "# Extract the subset of columns to be aggregated\r\n",
                "covid_df_may_metrics = covid_df_may[['new_cases', 'new_deaths', 'new_tests']]\r\n",
                "\r\n",
                "# Get the column-wise sum\r\n",
                "covid_may_totals = covid_df_may_metrics.sum()\r\n",
                "covid_may_totals"
            ],
            "outputs": [],
            "metadata": {}
        },
        {
            "cell_type": "code",
            "execution_count": null,
            "source": [
                "# As another example, let's check if the number of cases reported on Sundays is higher than the average number of cases reported every day. \r\n",
                "# This time, we might want to aggregate columns using the `.mean` method.\r\n",
                "\r\n",
                "# Overall average\r\n",
                "covid_df.new_cases.mean()"
            ],
            "outputs": [],
            "metadata": {}
        },
        {
            "cell_type": "code",
            "execution_count": null,
            "source": [
                "# Apply function\r\n",
                "\r\n",
                "def newDeaths(x):\r\n",
                "    if x > 5:\r\n",
                "        return x\r\n",
                "    else:\r\n",
                "        return None\r\n",
                "results = covid_df['new_deaths'].apply(newDeaths)\r\n",
                "results"
            ],
            "outputs": [],
            "metadata": {}
        },
        {
            "cell_type": "code",
            "execution_count": null,
            "source": [],
            "outputs": [],
            "metadata": {}
        },
        {
            "cell_type": "code",
            "execution_count": null,
            "source": [
                "# Grouping and aggregation\r\n",
                "# As a next step, we might want to summarize the day-wise data and create a new dataframe with month-wise data. \r\n",
                "# We can use the `groupby` function to create a group for each month, select the columns we wish to aggregate, \r\n",
                "# and aggregate them using the `sum` method. \r\n",
                "\r\n",
                "# covid_month_df = covid_df.groupby('month')[['new_cases', 'new_deaths', 'new_tests']].sum()\r\n",
                "# covid_month_df = covid_df.groupby('month')[['new_cases', 'new_deaths', 'new_tests']].mean()\r\n",
                "# covid_month_df = covid_df.groupby('month')[['new_cases', 'new_deaths', 'new_tests']].median()\r\n",
                "covid_month_df = covid_df.groupby('month')[['new_cases', 'new_deaths', 'new_tests']].std()\r\n",
                "covid_month_df"
            ],
            "outputs": [],
            "metadata": {}
        },
        {
            "cell_type": "code",
            "execution_count": null,
            "source": [
                "covid_weekday_df = covid_df.groupby('weekday')[['new_cases', 'new_deaths', 'new_tests']].sum()\r\n",
                "covid_weekday_df"
            ],
            "outputs": [],
            "metadata": {}
        },
        {
            "cell_type": "code",
            "execution_count": null,
            "source": [
                "covid_day_df = covid_df.groupby('day')[['new_cases', 'new_deaths', 'new_tests']].sum()\r\n",
                "covid_day_df"
            ],
            "outputs": [],
            "metadata": {}
        },
        {
            "cell_type": "code",
            "execution_count": null,
            "source": [
                "# Apart from grouping, another form of aggregation is the running or cumulative sum of cases, tests, or death up to \r\n",
                "# each row's date. We can use the cumsum method to compute the cumulative sum of a column as a new series. Let's add \r\n",
                "# three new columns: total_cases, total_deaths, and total_tests.\r\n",
                "\r\n",
                "covid_df['total_cases'] = covid_df.new_cases.cumsum()\r\n",
                "covid_df['total_deaths'] = covid_df.new_deaths.cumsum()\r\n",
                "covid_df['total_tests'] = covid_df.new_tests.cumsum() + initial_tests\r\n",
                "covid_df"
            ],
            "outputs": [],
            "metadata": {}
        },
        {
            "cell_type": "code",
            "execution_count": 1,
            "source": [
                "# Merging data from multiple sources\r\n",
                "# To determine other metrics like test per million, cases per million, etc., we require some more information about the \r\n",
                "# country, viz. its population. Let's download another file locations.csv that contains health-related information for \r\n",
                "# many countries, including Italy.\r\n",
                "\r\n",
                "urlretrieve('https://gist.githubusercontent.com/aakashns/8684589ef4f266116cdce023377fc9c8/raw/99ce3826b2a9d1e6d0bde7e9e559fc8b6e9ac88b/locations.csv', \r\n",
                "            'data/locations.csv')\r\n",
                "\r\n",
                "locations_df = pd.read_csv('data/locations.csv')\r\n",
                "locations_df"
            ],
            "outputs": [
                {
                    "output_type": "error",
                    "ename": "NameError",
                    "evalue": "name 'urlretrieve' is not defined",
                    "traceback": [
                        "\u001b[1;31m---------------------------------------------------------------------------\u001b[0m",
                        "\u001b[1;31mNameError\u001b[0m                                 Traceback (most recent call last)",
                        "\u001b[1;32m~\\AppData\\Local\\Temp/ipykernel_20160/656327902.py\u001b[0m in \u001b[0;36m<module>\u001b[1;34m\u001b[0m\n\u001b[0;32m      4\u001b[0m \u001b[1;31m# many countries, including Italy.\u001b[0m\u001b[1;33m\u001b[0m\u001b[1;33m\u001b[0m\u001b[1;33m\u001b[0m\u001b[0m\n\u001b[0;32m      5\u001b[0m \u001b[1;33m\u001b[0m\u001b[0m\n\u001b[1;32m----> 6\u001b[1;33m urlretrieve('https://gist.githubusercontent.com/aakashns/8684589ef4f266116cdce023377fc9c8/raw/99ce3826b2a9d1e6d0bde7e9e559fc8b6e9ac88b/locations.csv', \n\u001b[0m\u001b[0;32m      7\u001b[0m             'data/locations.csv')\n\u001b[0;32m      8\u001b[0m \u001b[1;33m\u001b[0m\u001b[0m\n",
                        "\u001b[1;31mNameError\u001b[0m: name 'urlretrieve' is not defined"
                    ]
                }
            ],
            "metadata": {}
        },
        {
            "cell_type": "code",
            "execution_count": null,
            "source": [
                "locations_df[locations_df.location == \"Italy\"]\r\n",
                "# We can merge this data into our existing data frame by adding more columns. However, to merge two data frames, \r\n",
                "# we need at least one common column. Let's insert a location column in the covid_df dataframe with all values set to \r\n",
                "# \"Italy\".\r\n",
                "covid_df['location'] = \"Italy\"\r\n",
                "covid_df\r\n",
                "\r\n",
                "# We can now add the columns from `locations_df` into `covid_df` using the `.merge` method.\r\n",
                "merged_df = covid_df.merge(locations_df, on=\"location\")\r\n",
                "merged_df"
            ],
            "outputs": [],
            "metadata": {}
        },
        {
            "cell_type": "code",
            "execution_count": null,
            "source": [
                "# The location data for Italy is appended to each row within `covid_df`. If the `covid_df` data frame contained data for \r\n",
                "# multiple locations, then the respective country's location data would be appended for each row.\r\n",
                "# We can now calculate metrics like cases per million, deaths per million, and tests per million.\r\n",
                "\r\n",
                "merged_df['cases_per_million'] = merged_df.total_cases * 1e6 / merged_df.population\r\n",
                "merged_df['deaths_per_million'] = merged_df.total_deaths * 1e6 / merged_df.population\r\n",
                "merged_df['tests_per_million'] = merged_df.total_tests * 1e6 / merged_df.population\r\n",
                "merged_df"
            ],
            "outputs": [],
            "metadata": {}
        },
        {
            "cell_type": "code",
            "execution_count": null,
            "source": [
                "# Writing data back to files\r\n",
                "# After completing your analysis and adding new columns, you should write the results back to a file. Otherwise, \r\n",
                "# the data will be lost when the Jupyter notebook shuts down. Before writing to file, let us first create a data frame \r\n",
                "# containing just the columns we wish to record.\r\n",
                "\r\n",
                "result_df = merged_df[['date',\r\n",
                "                       'new_cases', \r\n",
                "                       'total_cases', \r\n",
                "                       'new_deaths', \r\n",
                "                       'total_deaths', \r\n",
                "                       'new_tests', \r\n",
                "                       'total_tests', \r\n",
                "                       'cases_per_million', \r\n",
                "                       'deaths_per_million', \r\n",
                "                       'tests_per_million']]\r\n",
                "\r\n",
                "result_df"
            ],
            "outputs": [],
            "metadata": {}
        },
        {
            "cell_type": "code",
            "execution_count": null,
            "source": [
                "# To write the data from the data frame into a file, we can use the `to_csv` function. \r\n",
                "result_df.to_csv('data/results.csv', index=None)"
            ],
            "outputs": [],
            "metadata": {}
        },
        {
            "cell_type": "code",
            "execution_count": null,
            "source": [
                "# Basic Plotting with Pandas\r\n",
                "# We generally use a library like matplotlib or seaborn plot graphs within a Jupyter notebook. However, Pandas dataframes\r\n",
                "#  & series provide a handy .plot method for quick and easy plotting.\r\n",
                "result_df.new_cases.plot()\r\n"
            ],
            "outputs": [],
            "metadata": {}
        },
        {
            "cell_type": "code",
            "execution_count": null,
            "source": [
                "# While this plot shows the overall trend, it's hard to tell where the peak occurred, as there are no dates on the X-axis. \r\n",
                "# We can use the `date` column as the index for the data frame to address this issue.\r\n",
                "\r\n",
                "result_df.set_index('date', inplace=True)\r\n",
                "result_df"
            ],
            "outputs": [],
            "metadata": {}
        },
        {
            "cell_type": "code",
            "execution_count": null,
            "source": [
                "# Notice that the index of a data frame doesn't have to be numeric. Using the date as the index also allows us\r\n",
                "#  to get the data for a specific data using `.loc`.\r\n",
                "\r\n",
                "result_df.loc['2020-09-01']"
            ],
            "outputs": [],
            "metadata": {}
        },
        {
            "cell_type": "code",
            "execution_count": null,
            "source": [
                "# Let's plot the new cases & new deaths per day as line graphs.\r\n",
                "result_df.new_cases.plot()\r\n",
                "result_df.new_deaths.plot()"
            ],
            "outputs": [],
            "metadata": {}
        },
        {
            "cell_type": "code",
            "execution_count": null,
            "source": [
                "# We can also compare the total cases vs. total deaths.\r\n",
                "result_df.total_cases.plot()\r\n",
                "result_df.total_deaths.plot()"
            ],
            "outputs": [],
            "metadata": {}
        },
        {
            "cell_type": "code",
            "execution_count": null,
            "source": [
                "# Let's see how the death rate and positive testing rates vary over time.\r\n",
                "death_rate = result_df.total_deaths / result_df.total_cases\r\n",
                "death_rate.plot(title='Death Rate')"
            ],
            "outputs": [],
            "metadata": {}
        },
        {
            "cell_type": "code",
            "execution_count": null,
            "source": [
                "positive_rates = result_df.total_cases / result_df.total_tests\r\n",
                "positive_rates.plot(title='Positive Rate')"
            ],
            "outputs": [],
            "metadata": {}
        },
        {
            "cell_type": "code",
            "execution_count": null,
            "source": [
                "# Finally, let's plot some month-wise data using a bar chart to visualize the trend at a higher level.\r\n",
                "covid_month_df.new_cases.plot(kind='bar')"
            ],
            "outputs": [],
            "metadata": {}
        },
        {
            "cell_type": "code",
            "execution_count": null,
            "source": [
                "covid_month_df.new_tests.plot(kind='bar')"
            ],
            "outputs": [],
            "metadata": {}
        },
        {
            "cell_type": "code",
            "execution_count": null,
            "source": [
                "covid_df"
            ],
            "outputs": [],
            "metadata": {}
        },
        {
            "cell_type": "code",
            "execution_count": null,
            "source": [
                "covid_df.dropna() # This will drop all the rows with no data"
            ],
            "outputs": [],
            "metadata": {}
        },
        {
            "cell_type": "code",
            "execution_count": null,
            "source": [
                "# drop any columns with missing values\r\n",
                "# Column new_tests is dropped\r\n",
                "covid_df.dropna(axis='columns',how='any')\r\n"
            ],
            "outputs": [],
            "metadata": {}
        },
        {
            "cell_type": "code",
            "execution_count": null,
            "source": [
                "# Drop with respect to condition given\r\n",
                "# From index, drop all rows were total_tests == NAN\r\n",
                "covid_df.dropna(axis='index',how='any',subset=['total_tests'])"
            ],
            "outputs": [],
            "metadata": {}
        },
        {
            "cell_type": "code",
            "execution_count": 141,
            "source": [
                "covid_df.info()"
            ],
            "outputs": [
                {
                    "output_type": "stream",
                    "name": "stdout",
                    "text": [
                        "<class 'pandas.core.frame.DataFrame'>\n",
                        "RangeIndex: 248 entries, 0 to 247\n",
                        "Data columns (total 4 columns):\n",
                        " #   Column      Non-Null Count  Dtype  \n",
                        "---  ------      --------------  -----  \n",
                        " 0   date        248 non-null    object \n",
                        " 1   new_cases   248 non-null    int32  \n",
                        " 2   new_deaths  248 non-null    float64\n",
                        " 3   new_tests   135 non-null    float64\n",
                        "dtypes: float64(2), int32(1), object(1)\n",
                        "memory usage: 6.9+ KB\n"
                    ]
                }
            ],
            "metadata": {}
        },
        {
            "cell_type": "code",
            "execution_count": 142,
            "source": [
                "covid_df = covid_df.astype({'new_cases':int})\r\n",
                "covid_df = covid_df.astype({'new_deaths':str})\r\n",
                "covid_df.info()"
            ],
            "outputs": [
                {
                    "output_type": "stream",
                    "name": "stdout",
                    "text": [
                        "<class 'pandas.core.frame.DataFrame'>\n",
                        "RangeIndex: 248 entries, 0 to 247\n",
                        "Data columns (total 4 columns):\n",
                        " #   Column      Non-Null Count  Dtype  \n",
                        "---  ------      --------------  -----  \n",
                        " 0   date        248 non-null    object \n",
                        " 1   new_cases   248 non-null    int32  \n",
                        " 2   new_deaths  248 non-null    object \n",
                        " 3   new_tests   135 non-null    float64\n",
                        "dtypes: float64(1), int32(1), object(2)\n",
                        "memory usage: 6.9+ KB\n"
                    ]
                }
            ],
            "metadata": {}
        }
    ],
    "metadata": {
        "orig_nbformat": 4,
        "language_info": {
            "name": "python",
            "version": "3.9.6",
            "mimetype": "text/x-python",
            "codemirror_mode": {
                "name": "ipython",
                "version": 3
            },
            "pygments_lexer": "ipython3",
            "nbconvert_exporter": "python",
            "file_extension": ".py"
        },
        "kernelspec": {
            "name": "python3",
            "display_name": "Python 3.9.6 64-bit"
        },
        "interpreter": {
            "hash": "b4474bd39aa979d9034cf80f10e2f11f4a0fc3802d205559d129ca421827463e"
        }
    },
    "nbformat": 4,
    "nbformat_minor": 2
}